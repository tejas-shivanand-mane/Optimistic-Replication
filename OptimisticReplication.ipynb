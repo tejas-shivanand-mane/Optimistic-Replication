{
 "cells": [
  {
   "cell_type": "code",
   "execution_count": 1,
   "id": "58fdbb5e",
   "metadata": {},
   "outputs": [],
   "source": [
    "import time\n",
    "import re\n",
    "import pylab as pl\n",
    "import numpy as np\n",
    "import pylab as pl\n",
    "\n",
    "from datetime import datetime, timedelta\n",
    "\n",
    "import subprocess\n",
    "\n",
    "import os\n",
    "import pandas as pd\n",
    "\n",
    "import concurrent.futures\n",
    "\n",
    "\n",
    "from joblib import Parallel, delayed\n",
    "import shutil\n",
    "\n",
    "\n",
    "from concurrent.futures import ThreadPoolExecutor, ProcessPoolExecutor"
   ]
  },
  {
   "cell_type": "code",
   "execution_count": 2,
   "id": "c4ef2359",
   "metadata": {},
   "outputs": [],
   "source": [
    "num_nodes = 8\n",
    "\n",
    "num_txns = 144000\n",
    "fialed_node_id = 9\n",
    "write_percent = 10\n",
    "usecase = 'project'\n",
    "operationrate =1000000000"
   ]
  },
  {
   "cell_type": "code",
   "execution_count": 3,
   "id": "0848d47f-d887-44a1-aba4-81ec1563ef06",
   "metadata": {},
   "outputs": [],
   "source": [
    "gcp_username = 'tejas'"
   ]
  },
  {
   "cell_type": "code",
   "execution_count": null,
   "id": "89a4194c",
   "metadata": {},
   "outputs": [],
   "source": [
    "\n",
    "commands  = []\n",
    "\n",
    "\n",
    "\n",
    "for i in range(num_nodes):\n",
    "    cmd =  'gcloud compute instances create tmane-'+f\"{i:03}\"+' \\\n",
    "    --project=ucr-ursa-major-lesani-lab \\\n",
    "    --zone=us-central1-a \\\n",
    "    --machine-type=e2-highcpu-4 \\\n",
    "    --network-interface=network-tier=PREMIUM,stack-type=IPV4_ONLY,subnet=default \\\n",
    "    --maintenance-policy=MIGRATE \\\n",
    "    --provisioning-model=STANDARD \\\n",
    "    --service-account=961693926925-compute@developer.gserviceaccount.com \\\n",
    "    --scopes=https://www.googleapis.com/auth/devstorage.read_only,https://www.googleapis.com/auth/logging.write,https://www.googleapis.com/auth/monitoring.write,https://www.googleapis.com/auth/service.management.readonly,https://www.googleapis.com/auth/servicecontrol,https://www.googleapis.com/auth/trace.append \\\n",
    "    --create-disk=auto-delete=yes,boot=yes,device-name=instance-20241002-130909,image=projects/rhel-cloud/global/images/rhel-8-v20240910,mode=rw,size=20,type=pd-balanced \\\n",
    "    --no-shielded-secure-boot \\\n",
    "    --shielded-vtpm \\\n",
    "    --shielded-integrity-monitoring \\\n",
    "    --labels=goog-ec-src=vm_add-gcloud \\\n",
    "    --reservation-affinity=any'\n",
    "\n",
    "    commands.append(cmd)\n",
    "\n",
    "\n",
    "def run_command(command):\n",
    "    subprocess.call(command, shell=True)\n",
    "\n",
    "\n",
    "# Create a ThreadPoolExecutor or ProcessPoolExecutor, depending on your needs\n",
    "with concurrent.futures.ThreadPoolExecutor(max_workers=60) as executor:\n",
    "    # Submit each command to the executor for parallel execution\n",
    "    futures = [executor.submit(run_command, command) for command in commands]\n",
    "\n",
    "    # Wait for all tasks to complete\n",
    "    concurrent.futures.wait(futures)"
   ]
  },
  {
   "cell_type": "code",
   "execution_count": null,
   "id": "d9e07501",
   "metadata": {},
   "outputs": [],
   "source": [
    "time.sleep(60)"
   ]
  },
  {
   "cell_type": "code",
   "execution_count": 4,
   "id": "ba8a98f1-4fdb-4bc3-929f-403280f52884",
   "metadata": {},
   "outputs": [],
   "source": [
    "num_nodes = 8\n",
    "\n",
    "num_txns = 144000\n",
    "fialed_node_id = 9\n",
    "write_percent = 10\n",
    "usecase = 'project'\n",
    "operationrate =1000000000"
   ]
  },
  {
   "cell_type": "code",
   "execution_count": 5,
   "id": "5b968e3f-f772-4c59-bdb0-d8086be17f96",
   "metadata": {
    "scrolled": true
   },
   "outputs": [
    {
     "name": "stdout",
     "output_type": "stream",
     "text": [
      "[main 8ff2bf8] test\n",
      " 6 files changed, 649 insertions(+), 2964 deletions(-)\n"
     ]
    },
    {
     "name": "stderr",
     "output_type": "stream",
     "text": [
      "To github.com:tejas-shivanand-mane/Optimistic-Replication.git\n",
      "   92d075f..8ff2bf8  HEAD -> main\n"
     ]
    },
    {
     "data": {
      "text/plain": [
       "0"
      ]
     },
     "execution_count": 5,
     "metadata": {},
     "output_type": "execute_result"
    }
   ],
   "source": [
    "os.system('git add .; git commit -m \"test\"; git push -f origin HEAD:main')\n"
   ]
  },
  {
   "cell_type": "code",
   "execution_count": null,
   "id": "f1780389-0bf2-44fd-90eb-6d623c2756db",
   "metadata": {},
   "outputs": [],
   "source": [
    "def clean_node(i):\n",
    "    command = (\n",
    "        f'gcloud compute ssh --zone us-central1-a '\n",
    "        f'{gcp_username}@tmane-{i:03} '\n",
    "        f'--project ucr-ursa-major-lesani-lab '\n",
    "        f'--command \"cd; sudo rm -r *\"'\n",
    "    )\n",
    "    output = subprocess.getoutput(command)\n",
    "    print(output)\n",
    "results = Parallel(n_jobs=60, prefer=\"threads\")(delayed(clean_node)(i) for i in range(num_nodes))"
   ]
  },
  {
   "cell_type": "code",
   "execution_count": null,
   "id": "8203f9a2",
   "metadata": {
    "scrolled": true
   },
   "outputs": [],
   "source": [
    "def git_clone(i):\n",
    "\n",
    "    command = 'gcloud compute ssh --zone \"us-central1-a\" \"tmane-'+f\"{i:03}\"+'\" --project \"ucr-ursa-major-lesani-lab\" --command \"sudo yum update; sudo yum -y install git; git clone --branch main --single-branch https://github.com/tejas-shivanand-mane/Optimistic-Replication.git;\"'\n",
    "\n",
    "    print(command)\n",
    "\n",
    "    output = os.system(command)\n",
    "    print(output)\n",
    "results = Parallel(n_jobs=60, prefer=\"threads\")(delayed(git_clone)(i) for i in range(num_nodes))\n"
   ]
  },
  {
   "cell_type": "code",
   "execution_count": null,
   "id": "4aca3497-fde1-4427-9648-89876ae301f3",
   "metadata": {},
   "outputs": [],
   "source": [
    "def kill_code(i):\n",
    "    command = (\n",
    "        f'gcloud compute ssh --zone us-central1-a '\n",
    "        f'{gcp_username}@tmane-{i:03} '\n",
    "        f'--project ucr-ursa-major-lesani-lab '\n",
    "        f'--command \"sudo killall main-replication-protocols\"'\n",
    "    )\n",
    "    output = subprocess.getoutput(command)\n",
    "    print(output)\n"
   ]
  },
  {
   "cell_type": "code",
   "execution_count": null,
   "id": "7b8473c8-5c99-4f35-8c7a-2a3f19edb828",
   "metadata": {},
   "outputs": [],
   "source": []
  },
  {
   "cell_type": "markdown",
   "id": "ecf552b8-0706-4acb-b0d2-7e131fc7a29b",
   "metadata": {},
   "source": [
    "## RESTART"
   ]
  },
  {
   "cell_type": "code",
   "execution_count": null,
   "id": "482830f5-87bd-4536-8b9c-bd89b20578d4",
   "metadata": {
    "scrolled": true
   },
   "outputs": [],
   "source": [
    "results = Parallel(n_jobs=10, prefer=\"threads\")(delayed(kill_code)(i) for i in range(num_nodes))\n",
    "\n",
    "    \n",
    "os.system('git add .; git commit -m \"test\"; git push -f origin HEAD:main')\n",
    "\n",
    "def git_pull(i):\n",
    "\n",
    "    command = 'gcloud compute ssh --zone \"us-central1-a\" \"tmane-'+f\"{i:03}\"+'\" --project \"ucr-ursa-major-lesani-lab\" --command \"cd Optimistic-Replication ; git pull;\"'\n",
    "\n",
    "    print(command)\n",
    "\n",
    "    output = os.system(command)\n",
    "    print(output)\n",
    "results = Parallel(n_jobs=60, prefer=\"threads\")(delayed(git_pull)(i) for i in range(num_nodes))"
   ]
  },
  {
   "cell_type": "code",
   "execution_count": null,
   "id": "596d12ba",
   "metadata": {},
   "outputs": [],
   "source": [
    "def setup(i):\n",
    "    command = (\n",
    "        f'gcloud compute ssh --zone us-central1-a '\n",
    "        f'{gcp_username}@tmane-{i:03} '\n",
    "        f'--project ucr-ursa-major-lesani-lab '\n",
    "        f'--command \"cd Optimistic-Replication; cp optrep_script.sh ../optrep_script.sh; cd ../; sh optrep_script.sh {num_nodes} {num_txns} {write_percent} {usecase} > /home/{gcp_username}/log.txt\"'\n",
    "    )\n",
    "    os.system(command)\n",
    "\n",
    "    "
   ]
  },
  {
   "cell_type": "code",
   "execution_count": null,
   "id": "dd96a245",
   "metadata": {
    "scrolled": true
   },
   "outputs": [],
   "source": [
    "results = Parallel(n_jobs=60, prefer=\"threads\")(delayed(setup)(i) for i in range(num_nodes))"
   ]
  },
  {
   "cell_type": "code",
   "execution_count": null,
   "id": "804d547f",
   "metadata": {},
   "outputs": [],
   "source": [
    "result = subprocess.check_output('gcloud compute instances list  --format=\"value(networkInterfaces[0].networkIP)\"', shell=True, text=True)\n",
    "\n",
    "# Convert the output to a list by splitting on newlines\n",
    "ip_list = result.splitlines()"
   ]
  },
  {
   "cell_type": "code",
   "execution_count": null,
   "id": "762bf35e-b07b-4110-8fe6-3da372b2a679",
   "metadata": {},
   "outputs": [],
   "source": [
    "ip_list"
   ]
  },
  {
   "cell_type": "code",
   "execution_count": null,
   "id": "55ed65e5",
   "metadata": {},
   "outputs": [],
   "source": [
    "def get_sorted_instance_ips():\n",
    "    result = subprocess.check_output(\n",
    "        \"gcloud compute instances list --filter='name~^tmane-' \"\n",
    "        \"--format='value(name,networkInterfaces[0].networkIP)'\",\n",
    "        shell=True\n",
    "    )\n",
    "    lines = result.decode().splitlines()\n",
    "    # Parse into list of tuples: (name, ip)\n",
    "    name_ip_pairs = [line.strip().split() for line in lines]\n",
    "    # Sort by name: optrep-000, optrep-001, ...\n",
    "    sorted_pairs = sorted(name_ip_pairs, key=lambda x: x[0])\n",
    "    # Extract sorted IPs\n",
    "    sorted_ips = [ip for name, ip in sorted_pairs]\n",
    "    return sorted_ips\n",
    "\n",
    "ip_list = get_sorted_instance_ips()\n",
    "ip_string = \" \".join(ip_list)"
   ]
  },
  {
   "cell_type": "code",
   "execution_count": null,
   "id": "e5dd07a8-4145-4bdc-b1e6-eb901b877f81",
   "metadata": {},
   "outputs": [],
   "source": [
    "ip_string"
   ]
  },
  {
   "cell_type": "code",
   "execution_count": null,
   "id": "d746a324",
   "metadata": {},
   "outputs": [],
   "source": [
    "def run_code(i):\n",
    "    output_dir = f\"../../wellcoordination/workload/{num_nodes}-{num_txns}-{write_percent}/{usecase}\"\n",
    "    output_file = f\"{output_dir}/result{i}.out\"\n",
    "    command = (\n",
    "        f'gcloud compute ssh --zone us-central1-a '\n",
    "        f'{gcp_username}@tmane-{i:03} '\n",
    "        f'--project ucr-ursa-major-lesani-lab '\n",
    "        f'--command \"cd Optimistic-Replication/tcp/build; '\n",
    "        f'sudo bash -c \\''\n",
    "        f'mkdir -p {output_dir}; '\n",
    "        f'nohup ./main-replication-protocols {i+1} {num_nodes} {num_txns} {write_percent} {usecase} {operationrate} {fialed_node_id} {ip_string} > {output_file} 2>&1 &'\n",
    "        f'\\'\"'\n",
    "    )\n",
    "    print(command)\n",
    "    output = subprocess.getoutput(command)\n",
    "    print(output)\n",
    "\n"
   ]
  },
  {
   "cell_type": "markdown",
   "id": "878aa735-6826-4a87-a621-c8b4063d028c",
   "metadata": {},
   "source": [
    "# 1 failure"
   ]
  },
  {
   "cell_type": "code",
   "execution_count": null,
   "id": "29d76473-1f02-4a87-9e84-36afc2cd73f0",
   "metadata": {
    "scrolled": true
   },
   "outputs": [],
   "source": [
    "results = Parallel(n_jobs=10, prefer=\"threads\")(delayed(kill_code)(i) for i in range(num_nodes))\n",
    "time.sleep(5)\n",
    "\n",
    "for i in range(num_nodes):\n",
    "    run_code(i)\n",
    "\n",
    "\n",
    "time.sleep(35)  # Let it run for 30 seconds\n",
    "kill_code(7)   \n",
    "time.sleep(7)\n",
    "# kill_code(6)   \n",
    "time.sleep(7)\n",
    "# kill_code(5)   \n",
    "\n",
    "time.sleep(7)\n",
    "\n",
    "\n",
    "time.sleep(85) \n",
    "\n",
    "\n",
    "# time.sleep(25)  # Let it run for 30 seconds\n",
    "# kill_code(3)    # Kill node 3 (id=3, 0-indexed position 2)\n",
    "# time.sleep(6)\n",
    "# # kill_code(2)    # Kill node 3 (id=3, 0-indexed position 2)\n",
    "# time.sleep(54) \n",
    "\n",
    "\n",
    "results = Parallel(n_jobs=10, prefer=\"threads\")(delayed(kill_code)(i) for i in range(num_nodes))\n",
    "\n",
    "\n",
    "\n",
    "if not os.path.exists('../optrep_outputs'):\n",
    "    os.mkdir('../optrep_outputs')\n",
    "\n",
    "for i in range(num_nodes):\n",
    "    command = (\n",
    "        f'gcloud compute scp --zone us-central1-a '\n",
    "        f'{gcp_username}@tmane-{i:03}:/home/{gcp_username}/Optimistic-Replication/wellcoordination/workload/{num_nodes}-{num_txns}-{write_percent}/{usecase}/result{i}.out '\n",
    "        f'../optrep_outputs/{i}.txt '\n",
    "        f'--project ucr-ursa-major-lesani-lab'\n",
    "    )\n",
    "    os.system(command)\n",
    "    print('copied')\n",
    "\n",
    "    # break\n",
    "\n",
    "src_dir = '../optrep_outputs/'\n",
    "dst_dir = f'../OptimisticReplicationOuts/{usecase}_1'\n",
    "\n",
    "# Make sure destination folder exists\n",
    "os.makedirs(dst_dir, exist_ok=True)\n",
    "\n",
    "# Iterate through all files in the source directory\n",
    "for filename in os.listdir(src_dir):\n",
    "    src_path = os.path.join(src_dir, filename)\n",
    "    dst_path = os.path.join(dst_dir, filename)\n",
    "\n",
    "    # Copy only files (skip directories)\n",
    "    if os.path.isfile(src_path):\n",
    "        shutil.copy2(src_path, dst_path)"
   ]
  },
  {
   "cell_type": "markdown",
   "id": "4ed12777-b65f-45fe-8ad5-4475b2c2c9e1",
   "metadata": {},
   "source": [
    "# 3 failure"
   ]
  },
  {
   "cell_type": "code",
   "execution_count": null,
   "id": "1ed64068-5b9a-4957-a534-a54e6c70db9b",
   "metadata": {
    "scrolled": true
   },
   "outputs": [],
   "source": [
    "results = Parallel(n_jobs=10, prefer=\"threads\")(delayed(kill_code)(i) for i in range(num_nodes))\n",
    "time.sleep(5)\n",
    "\n",
    "for i in range(num_nodes):\n",
    "    run_code(i)\n",
    "\n",
    "\n",
    "time.sleep(35)  # Let it run for 30 seconds\n",
    "kill_code(7)   \n",
    "time.sleep(17)\n",
    "kill_code(6)   \n",
    "time.sleep(17)\n",
    "kill_code(5)   \n",
    "\n",
    "time.sleep(7)\n",
    "\n",
    "\n",
    "time.sleep(65) \n",
    "\n",
    "\n",
    "# time.sleep(25)  # Let it run for 30 seconds\n",
    "# kill_code(3)    # Kill node 3 (id=3, 0-indexed position 2)\n",
    "# time.sleep(6)\n",
    "# # kill_code(2)    # Kill node 3 (id=3, 0-indexed position 2)\n",
    "# time.sleep(54) \n",
    "\n",
    "\n",
    "results = Parallel(n_jobs=10, prefer=\"threads\")(delayed(kill_code)(i) for i in range(num_nodes))\n",
    "\n",
    "\n",
    "\n",
    "if not os.path.exists('../optrep_outputs'):\n",
    "    os.mkdir('../optrep_outputs')\n",
    "\n",
    "for i in range(num_nodes):\n",
    "    command = (\n",
    "        f'gcloud compute scp --zone us-central1-a '\n",
    "        f'{gcp_username}@tmane-{i:03}:/home/{gcp_username}/Optimistic-Replication/wellcoordination/workload/{num_nodes}-{num_txns}-{write_percent}/{usecase}/result{i}.out '\n",
    "        f'../optrep_outputs/{i}.txt '\n",
    "        f'--project ucr-ursa-major-lesani-lab'\n",
    "    )\n",
    "    os.system(command)\n",
    "    print('copied')\n",
    "\n",
    "    # break\n",
    "\n",
    "src_dir = '../optrep_outputs/'\n",
    "dst_dir = f'../OptimisticReplicationOuts/{usecase}_3'\n",
    "\n",
    "# Make sure destination folder exists\n",
    "os.makedirs(dst_dir, exist_ok=True)\n",
    "\n",
    "# Iterate through all files in the source directory\n",
    "for filename in os.listdir(src_dir):\n",
    "    src_path = os.path.join(src_dir, filename)\n",
    "    dst_path = os.path.join(dst_dir, filename)\n",
    "\n",
    "    # Copy only files (skip directories)\n",
    "    if os.path.isfile(src_path):\n",
    "        shutil.copy2(src_path, dst_path)"
   ]
  },
  {
   "cell_type": "markdown",
   "id": "11495d64-b8a4-429f-aa43-2aee8a188c19",
   "metadata": {},
   "source": [
    "# 2 failure"
   ]
  },
  {
   "cell_type": "code",
   "execution_count": null,
   "id": "49d6f778",
   "metadata": {
    "scrolled": true
   },
   "outputs": [],
   "source": [
    "results = Parallel(n_jobs=10, prefer=\"threads\")(delayed(kill_code)(i) for i in range(num_nodes))\n",
    "time.sleep(5)\n",
    "\n",
    "for i in range(num_nodes):\n",
    "    run_code(i)\n",
    "\n",
    "\n",
    "time.sleep(35)  # Let it run for 30 seconds\n",
    "kill_code(7)   \n",
    "time.sleep(10)\n",
    "kill_code(6)   \n",
    "time.sleep(10)\n",
    "# kill_code(5)   \n",
    "\n",
    "time.sleep(10)\n",
    "\n",
    "\n",
    "time.sleep(55) \n",
    "\n",
    "\n",
    "# time.sleep(25)  # Let it run for 30 seconds\n",
    "# kill_code(3)    # Kill node 3 (id=3, 0-indexed position 2)\n",
    "# time.sleep(6)\n",
    "# # kill_code(2)    # Kill node 3 (id=3, 0-indexed position 2)\n",
    "# time.sleep(54) \n",
    "\n",
    "\n",
    "results = Parallel(n_jobs=10, prefer=\"threads\")(delayed(kill_code)(i) for i in range(num_nodes))\n",
    "\n",
    "\n",
    "\n",
    "if not os.path.exists('../optrep_outputs'):\n",
    "    os.mkdir('../optrep_outputs')\n",
    "\n",
    "for i in range(num_nodes):\n",
    "    command = (\n",
    "        f'gcloud compute scp --zone us-central1-a '\n",
    "        f'{gcp_username}@tmane-{i:03}:/home/{gcp_username}/Optimistic-Replication/wellcoordination/workload/{num_nodes}-{num_txns}-{write_percent}/{usecase}/result{i}.out '\n",
    "        f'../optrep_outputs/{i}.txt '\n",
    "        f'--project ucr-ursa-major-lesani-lab'\n",
    "    )\n",
    "    os.system(command)\n",
    "    print('copied')\n",
    "\n",
    "    # break\n",
    "\n",
    "src_dir = '../optrep_outputs/'\n",
    "dst_dir = f'../OptimisticReplicationOuts/{usecase}_2'\n",
    "\n",
    "# Make sure destination folder exists\n",
    "os.makedirs(dst_dir, exist_ok=True)\n",
    "\n",
    "# Iterate through all files in the source directory\n",
    "for filename in os.listdir(src_dir):\n",
    "    src_path = os.path.join(src_dir, filename)\n",
    "    dst_path = os.path.join(dst_dir, filename)\n",
    "\n",
    "    # Copy only files (skip directories)\n",
    "    if os.path.isfile(src_path):\n",
    "        shutil.copy2(src_path, dst_path)"
   ]
  },
  {
   "cell_type": "markdown",
   "id": "ed2661ab-a3cc-49cb-93b6-2fc1b545b84d",
   "metadata": {},
   "source": [
    "# 0 failure"
   ]
  },
  {
   "cell_type": "code",
   "execution_count": null,
   "id": "9b8a99ce-e3c2-4051-84a9-2312abcc0c99",
   "metadata": {},
   "outputs": [],
   "source": [
    "results = Parallel(n_jobs=10, prefer=\"threads\")(delayed(kill_code)(i) for i in range(num_nodes))\n",
    "time.sleep(5)\n",
    "\n",
    "for i in range(num_nodes):\n",
    "    run_code(i)\n",
    "\n",
    "\n",
    "time.sleep(35)  # Let it run for 30 seconds\n",
    "# kill_code(7)   \n",
    "time.sleep(7)\n",
    "# kill_code(6)   \n",
    "time.sleep(7)\n",
    "# kill_code(5)   \n",
    "\n",
    "time.sleep(7)\n",
    "\n",
    "\n",
    "time.sleep(85) \n",
    "\n",
    "\n",
    "# time.sleep(25)  # Let it run for 30 seconds\n",
    "# kill_code(3)    # Kill node 3 (id=3, 0-indexed position 2)\n",
    "# time.sleep(6)\n",
    "# # kill_code(2)    # Kill node 3 (id=3, 0-indexed position 2)\n",
    "# time.sleep(54) \n",
    "\n",
    "\n",
    "results = Parallel(n_jobs=10, prefer=\"threads\")(delayed(kill_code)(i) for i in range(num_nodes))\n",
    "\n",
    "\n",
    "\n",
    "if not os.path.exists('../optrep_outputs'):\n",
    "    os.mkdir('../optrep_outputs')\n",
    "\n",
    "for i in range(num_nodes):\n",
    "    command = (\n",
    "        f'gcloud compute scp --zone us-central1-a '\n",
    "        f'{gcp_username}@tmane-{i:03}:/home/{gcp_username}/Optimistic-Replication/wellcoordination/workload/{num_nodes}-{num_txns}-{write_percent}/{usecase}/result{i}.out '\n",
    "        f'../optrep_outputs/{i}.txt '\n",
    "        f'--project ucr-ursa-major-lesani-lab'\n",
    "    )\n",
    "    os.system(command)\n",
    "    print('copied')\n",
    "\n",
    "    # break\n",
    "\n",
    "src_dir = '../optrep_outputs/'\n",
    "dst_dir = f'../OptimisticReplicationOuts/{usecase}_0'\n",
    "\n",
    "# Make sure destination folder exists\n",
    "os.makedirs(dst_dir, exist_ok=True)\n",
    "\n",
    "# Iterate through all files in the source directory\n",
    "for filename in os.listdir(src_dir):\n",
    "    src_path = os.path.join(src_dir, filename)\n",
    "    dst_path = os.path.join(dst_dir, filename)\n",
    "\n",
    "    # Copy only files (skip directories)\n",
    "    if os.path.isfile(src_path):\n",
    "        shutil.copy2(src_path, dst_path)"
   ]
  },
  {
   "cell_type": "code",
   "execution_count": null,
   "id": "d6b11a3d-d22b-42d4-aced-39fa13bf50d1",
   "metadata": {},
   "outputs": [],
   "source": [
    "\n",
    "# src_dir = '../optrep_outputs/'\n",
    "# dst_dir = '../OptimisticReplicationOuts/course_0'\n",
    "\n",
    "# # Make sure destination folder exists\n",
    "# os.makedirs(dst_dir, exist_ok=True)\n",
    "\n",
    "# # Iterate through all files in the source directory\n",
    "# for filename in os.listdir(src_dir):\n",
    "#     src_path = os.path.join(src_dir, filename)\n",
    "#     dst_path = os.path.join(dst_dir, filename)\n",
    "\n",
    "#     # Copy only files (skip directories)\n",
    "#     if os.path.isfile(src_path):\n",
    "#         shutil.copy2(src_path, dst_path)"
   ]
  },
  {
   "cell_type": "code",
   "execution_count": null,
   "id": "c57c4ce9-dcbb-423b-b0da-0e18cbd8beb8",
   "metadata": {},
   "outputs": [],
   "source": [
    "# os.system('gcloud compute instances delete --zone=us-central1-a --quiet --project=ucr-ursa-major-lesani-lab $(gcloud compute instances list --project=ucr-ursa-major-lesani-lab --filter=\"name~^tmane-\" --format=\"value(name)\")')"
   ]
  },
  {
   "cell_type": "code",
   "execution_count": null,
   "id": "076e4efe-975a-4722-a8fd-f9b7f375a40b",
   "metadata": {},
   "outputs": [],
   "source": []
  },
  {
   "cell_type": "code",
   "execution_count": null,
   "id": "ea0513a6-c03d-4b1c-9fb2-cfb30bcf6041",
   "metadata": {},
   "outputs": [],
   "source": []
  },
  {
   "cell_type": "code",
   "execution_count": null,
   "id": "42c994d1-15ff-46b8-b9e0-fbc019d3de9f",
   "metadata": {},
   "outputs": [],
   "source": []
  },
  {
   "cell_type": "code",
   "execution_count": null,
   "id": "550cce40-8cad-45ef-bf2b-bfa609cbc315",
   "metadata": {},
   "outputs": [],
   "source": []
  },
  {
   "cell_type": "code",
   "execution_count": null,
   "id": "796e84d1-1575-4a76-ad34-87d408106d6b",
   "metadata": {},
   "outputs": [],
   "source": []
  },
  {
   "cell_type": "code",
   "execution_count": null,
   "id": "fa7a2826-e7af-45a2-911f-a2432db54e43",
   "metadata": {},
   "outputs": [],
   "source": []
  },
  {
   "cell_type": "code",
   "execution_count": null,
   "id": "30c33735-d4f9-4d5c-8827-c3e62e1850c0",
   "metadata": {},
   "outputs": [],
   "source": []
  }
 ],
 "metadata": {
  "kernelspec": {
   "display_name": "Python 3 (ipykernel)",
   "language": "python",
   "name": "python3"
  },
  "language_info": {
   "codemirror_mode": {
    "name": "ipython",
    "version": 3
   },
   "file_extension": ".py",
   "mimetype": "text/x-python",
   "name": "python",
   "nbconvert_exporter": "python",
   "pygments_lexer": "ipython3",
   "version": "3.13.5"
  }
 },
 "nbformat": 4,
 "nbformat_minor": 5
}
