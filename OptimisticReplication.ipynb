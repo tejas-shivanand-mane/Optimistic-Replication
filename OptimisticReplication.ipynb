{
 "cells": [
  {
   "cell_type": "code",
   "execution_count": 1,
   "id": "58fdbb5e",
   "metadata": {},
   "outputs": [],
   "source": [
    "import time\n",
    "import re\n",
    "import pylab as pl\n",
    "import numpy as np\n",
    "import pylab as pl\n",
    "\n",
    "from datetime import datetime, timedelta\n",
    "\n",
    "import subprocess\n",
    "\n",
    "import os\n",
    "import pandas as pd\n",
    "\n",
    "import concurrent.futures\n",
    "\n",
    "\n",
    "from joblib import Parallel, delayed\n",
    "import shutil\n",
    "\n",
    "\n",
    "from concurrent.futures import ThreadPoolExecutor, ProcessPoolExecutor"
   ]
  },
  {
   "cell_type": "code",
   "execution_count": 2,
   "id": "c4ef2359",
   "metadata": {},
   "outputs": [],
   "source": [
    "num_nodes = 4\n",
    "\n",
    "num_txns = 72000\n",
    "fialed_node_id = 9\n",
    "write_percent = 10\n",
    "usecase = 'stack'\n",
    "operationrate =1000000000"
   ]
  },
  {
   "cell_type": "code",
   "execution_count": 3,
   "id": "0848d47f-d887-44a1-aba4-81ec1563ef06",
   "metadata": {},
   "outputs": [],
   "source": [
    "gcp_username = 'tejas'"
   ]
  },
  {
   "cell_type": "code",
   "execution_count": 4,
   "id": "89a4194c",
   "metadata": {},
   "outputs": [
    {
     "name": "stderr",
     "output_type": "stream",
     "text": [
      "Created [https://www.googleapis.com/compute/v1/projects/ucr-ursa-major-lesani-lab/zones/us-central1-a/instances/tmane-001].\n",
      "WARNING: Some requests generated warnings:\n",
      " - The resource 'projects/rhel-cloud/global/images/rhel-8-v20240910' is deprecated. A suggested replacement is 'projects/rhel-cloud/global/images/rhel-8-v20241009'.\n",
      "\n"
     ]
    },
    {
     "name": "stdout",
     "output_type": "stream",
     "text": [
      "NAME       ZONE           MACHINE_TYPE  PREEMPTIBLE  INTERNAL_IP  EXTERNAL_IP    STATUS\n",
      "tmane-001  us-central1-a  e2-highcpu-4               10.128.0.16  104.154.22.74  RUNNING\n"
     ]
    },
    {
     "name": "stderr",
     "output_type": "stream",
     "text": [
      "Created [https://www.googleapis.com/compute/v1/projects/ucr-ursa-major-lesani-lab/zones/us-central1-a/instances/tmane-002].\n",
      "WARNING: Some requests generated warnings:\n",
      " - The resource 'projects/rhel-cloud/global/images/rhel-8-v20240910' is deprecated. A suggested replacement is 'projects/rhel-cloud/global/images/rhel-8-v20241009'.\n",
      "\n"
     ]
    },
    {
     "name": "stdout",
     "output_type": "stream",
     "text": [
      "NAME       ZONE           MACHINE_TYPE  PREEMPTIBLE  INTERNAL_IP  EXTERNAL_IP  STATUS\n",
      "tmane-002  us-central1-a  e2-highcpu-4               10.128.0.67  34.71.42.92  RUNNING\n"
     ]
    },
    {
     "name": "stderr",
     "output_type": "stream",
     "text": [
      "Created [https://www.googleapis.com/compute/v1/projects/ucr-ursa-major-lesani-lab/zones/us-central1-a/instances/tmane-003].\n",
      "WARNING: Some requests generated warnings:\n",
      " - The resource 'projects/rhel-cloud/global/images/rhel-8-v20240910' is deprecated. A suggested replacement is 'projects/rhel-cloud/global/images/rhel-8-v20241009'.\n",
      "\n"
     ]
    },
    {
     "name": "stdout",
     "output_type": "stream",
     "text": [
      "NAME       ZONE           MACHINE_TYPE  PREEMPTIBLE  INTERNAL_IP  EXTERNAL_IP    STATUS\n",
      "tmane-003  us-central1-a  e2-highcpu-4               10.128.0.72  35.224.170.69  RUNNING\n"
     ]
    },
    {
     "name": "stderr",
     "output_type": "stream",
     "text": [
      "Created [https://www.googleapis.com/compute/v1/projects/ucr-ursa-major-lesani-lab/zones/us-central1-a/instances/tmane-000].\n",
      "WARNING: Some requests generated warnings:\n",
      " - The resource 'projects/rhel-cloud/global/images/rhel-8-v20240910' is deprecated. A suggested replacement is 'projects/rhel-cloud/global/images/rhel-8-v20241009'.\n",
      "\n"
     ]
    },
    {
     "name": "stdout",
     "output_type": "stream",
     "text": [
      "NAME       ZONE           MACHINE_TYPE  PREEMPTIBLE  INTERNAL_IP  EXTERNAL_IP     STATUS\n",
      "tmane-000  us-central1-a  e2-highcpu-4               10.128.0.73  34.135.232.126  RUNNING\n"
     ]
    }
   ],
   "source": [
    "\n",
    "commands  = []\n",
    "\n",
    "\n",
    "\n",
    "for i in range(num_nodes):\n",
    "    cmd =  'gcloud compute instances create tmane-'+f\"{i:03}\"+' \\\n",
    "    --project=ucr-ursa-major-lesani-lab \\\n",
    "    --zone=us-central1-a \\\n",
    "    --machine-type=e2-highcpu-4 \\\n",
    "    --network-interface=network-tier=PREMIUM,stack-type=IPV4_ONLY,subnet=default \\\n",
    "    --maintenance-policy=MIGRATE \\\n",
    "    --provisioning-model=STANDARD \\\n",
    "    --service-account=961693926925-compute@developer.gserviceaccount.com \\\n",
    "    --scopes=https://www.googleapis.com/auth/devstorage.read_only,https://www.googleapis.com/auth/logging.write,https://www.googleapis.com/auth/monitoring.write,https://www.googleapis.com/auth/service.management.readonly,https://www.googleapis.com/auth/servicecontrol,https://www.googleapis.com/auth/trace.append \\\n",
    "    --create-disk=auto-delete=yes,boot=yes,device-name=instance-20241002-130909,image=projects/rhel-cloud/global/images/rhel-8-v20240910,mode=rw,size=20,type=pd-balanced \\\n",
    "    --no-shielded-secure-boot \\\n",
    "    --shielded-vtpm \\\n",
    "    --shielded-integrity-monitoring \\\n",
    "    --labels=goog-ec-src=vm_add-gcloud \\\n",
    "    --reservation-affinity=any'\n",
    "\n",
    "    commands.append(cmd)\n",
    "\n",
    "\n",
    "def run_command(command):\n",
    "    subprocess.call(command, shell=True)\n",
    "\n",
    "\n",
    "# Create a ThreadPoolExecutor or ProcessPoolExecutor, depending on your needs\n",
    "with concurrent.futures.ThreadPoolExecutor(max_workers=60) as executor:\n",
    "    # Submit each command to the executor for parallel execution\n",
    "    futures = [executor.submit(run_command, command) for command in commands]\n",
    "\n",
    "    # Wait for all tasks to complete\n",
    "    concurrent.futures.wait(futures)"
   ]
  },
  {
   "cell_type": "code",
   "execution_count": 5,
   "id": "d9e07501",
   "metadata": {},
   "outputs": [],
   "source": [
    "time.sleep(60)"
   ]
  },
  {
   "cell_type": "code",
   "execution_count": 6,
   "id": "5b968e3f-f772-4c59-bdb0-d8086be17f96",
   "metadata": {
    "scrolled": true
   },
   "outputs": [
    {
     "name": "stdout",
     "output_type": "stream",
     "text": [
      "On branch main\n",
      "Your branch is behind 'origin/main' by 1 commit, and can be fast-forwarded.\n",
      "  (use \"git pull\" to update your local branch)\n",
      "\n",
      "nothing to commit, working tree clean\n"
     ]
    },
    {
     "name": "stderr",
     "output_type": "stream",
     "text": [
      "To github.com:tejas-shivanand-mane/Optimistic-Replication.git\n",
      " + d81c22c...6a4782f HEAD -> main (forced update)\n"
     ]
    },
    {
     "data": {
      "text/plain": [
       "0"
      ]
     },
     "execution_count": 6,
     "metadata": {},
     "output_type": "execute_result"
    }
   ],
   "source": [
    "os.system('git add .; git commit -m \"test\"; git push -f origin HEAD:main')\n"
   ]
  },
  {
   "cell_type": "code",
   "execution_count": 7,
   "id": "f1780389-0bf2-44fd-90eb-6d623c2756db",
   "metadata": {},
   "outputs": [
    {
     "name": "stdout",
     "output_type": "stream",
     "text": [
      "Warning: Permanently added 'compute.6743664798892157794' (ED25519) to the list of known hosts.\n",
      "rm: cannot remove '*': No such file or directory\n",
      "Warning: Permanently added 'compute.5101841012293495651' (ED25519) to the list of known hosts.\n",
      "rm: cannot remove '*': No such file or directory\n",
      "Warning: Permanently added 'compute.1461383013731789666' (ED25519) to the list of known hosts.\n",
      "rm: cannot remove '*': No such file or directory\n",
      "Warning: Permanently added 'compute.2062913034875431778' (ED25519) to the list of known hosts.\n",
      "rm: cannot remove '*': No such file or directory\n"
     ]
    }
   ],
   "source": [
    "def clean_node(i):\n",
    "    command = (\n",
    "        f'gcloud compute ssh --zone us-central1-a '\n",
    "        f'{gcp_username}@tmane-{i:03} '\n",
    "        f'--project ucr-ursa-major-lesani-lab '\n",
    "        f'--command \"cd; sudo rm -r *\"'\n",
    "    )\n",
    "    output = subprocess.getoutput(command)\n",
    "    print(output)\n",
    "results = Parallel(n_jobs=60, prefer=\"threads\")(delayed(clean_node)(i) for i in range(num_nodes))"
   ]
  },
  {
   "cell_type": "code",
   "execution_count": null,
   "id": "8203f9a2",
   "metadata": {
    "scrolled": true
   },
   "outputs": [
    {
     "name": "stdout",
     "output_type": "stream",
     "text": [
      "gcloud compute ssh --zone \"us-central1-a\" \"tmane-003\" --project \"ucr-ursa-major-lesani-lab\" --command \"sudo yum update; sudo yum -y install git; git clone --branch main --single-branch https://github.com/tejas-shivanand-mane/Optimistic-Replication.git;\"\n",
      "gcloud compute ssh --zone \"us-central1-a\" \"tmane-001\" --project \"ucr-ursa-major-lesani-lab\" --command \"sudo yum update; sudo yum -y install git; git clone --branch main --single-branch https://github.com/tejas-shivanand-mane/Optimistic-Replication.git;\"\n",
      "gcloud compute ssh --zone \"us-central1-a\" \"tmane-002\" --project \"ucr-ursa-major-lesani-lab\" --command \"sudo yum update; sudo yum -y install git; git clone --branch main --single-branch https://github.com/tejas-shivanand-mane/Optimistic-Replication.git;\"\n",
      "gcloud compute ssh --zone \"us-central1-a\" \"tmane-000\" --project \"ucr-ursa-major-lesani-lab\" --command \"sudo yum update; sudo yum -y install git; git clone --branch main --single-branch https://github.com/tejas-shivanand-mane/Optimistic-Replication.git;\"\n",
      "Google Compute Engine                            43 kB/s | 9.5 kB     00:00    \n",
      "Google Compute Engine                            42 kB/s | 9.5 kB     00:00    \n",
      "Google Compute Engine                            45 kB/s | 9.5 kB     00:00    \n",
      "Google Compute Engine                            43 kB/s | 9.5 kB     00:00    \n",
      "Google Cloud SDK                                 57 MB/s | 150 MB     00:02    \n",
      "Google Cloud SDK                                 61 MB/s | 150 MB     00:02    \n",
      "Google Cloud SDK                                 63 MB/s | 150 MB     00:02    \n",
      "Google Cloud SDK                                 55 MB/s | 150 MB     00:02    \n",
      "Red Hat CodeReady Linux Builder for RHEL 8 x86_  79 MB/s |  59 MB     00:00    \n",
      "Red Hat CodeReady Linux Builder for RHEL 8 x86_  73 MB/s |  59 MB     00:00    \n",
      "Red Hat CodeReady Linux Builder for RHEL 8 x86_  74 MB/s |  59 MB     00:00    \n",
      "Red Hat CodeReady Linux Builder for RHEL 8 x86_  77 MB/s |  59 MB     00:00    \n",
      "Red Hat CodeReady Linux Builder for RHEL 8 x86_  48 MB/s |  12 MB     00:00    \n",
      "Red Hat CodeReady Linux Builder for RHEL 8 x86_  54 MB/s |  12 MB     00:00    \n",
      "Red Hat CodeReady Linux Builder for RHEL 8 x86_  55 MB/s |  12 MB     00:00    \n",
      "Red Hat CodeReady Linux Builder for RHEL 8 x86_  54 MB/s |  12 MB     00:00    \n",
      "Red Hat CodeReady Linux Builder for RHEL 8 x86_ 2.4 MB/s | 305 kB     00:00    \n",
      "Red Hat CodeReady Linux Builder for RHEL 8 x86_ 2.4 MB/s | 305 kB     00:00    \n",
      "Red Hat CodeReady Linux Builder for RHEL 8 x86_ 2.3 MB/s | 305 kB     00:00    \n",
      "Red Hat CodeReady Linux Builder for RHEL 8 x86_ 2.4 MB/s | 305 kB     00:00    \n",
      "Red Hat Enterprise Linux 8 for x86_64 - AppStre  72 MB/s |  94 MB     00:01    \n",
      "Red Hat Enterprise Linux 8 for x86_64 - AppStre  80 MB/s |  94 MB     00:01    \n",
      "Red Hat Enterprise Linux 8 for x86_64 - AppStre  77 MB/s |  94 MB     00:01    \n",
      "Red Hat Enterprise Linux 8 for x86_64 - AppStre  80 MB/s |  94 MB     00:01    \n",
      "Red Hat Enterprise Linux 8 for x86_64 - AppStre  80 MB/s |  76 MB     00:00    \n",
      "Red Hat Enterprise Linux 8 for x86_64 - AppStre  87 MB/s |  76 MB     00:00    \n",
      "Red Hat Enterprise Linux 8 for x86_64 - AppStre  74 MB/s |  76 MB     00:01    \n",
      "Red Hat Enterprise Linux 8 for x86_64 - AppStre  79 MB/s |  76 MB     00:00    \n"
     ]
    }
   ],
   "source": [
    "def git_clone(i):\n",
    "\n",
    "    command = 'gcloud compute ssh --zone \"us-central1-a\" \"tmane-'+f\"{i:03}\"+'\" --project \"ucr-ursa-major-lesani-lab\" --command \"sudo yum update; sudo yum -y install git; git clone --branch main --single-branch https://github.com/tejas-shivanand-mane/Optimistic-Replication.git;\"'\n",
    "\n",
    "    print(command)\n",
    "\n",
    "    output = os.system(command)\n",
    "    print(output)\n",
    "results = Parallel(n_jobs=60, prefer=\"threads\")(delayed(git_clone)(i) for i in range(num_nodes))\n"
   ]
  },
  {
   "cell_type": "code",
   "execution_count": null,
   "id": "4aca3497-fde1-4427-9648-89876ae301f3",
   "metadata": {},
   "outputs": [],
   "source": [
    "def kill_code(i):\n",
    "    command = (\n",
    "        f'gcloud compute ssh --zone us-central1-a '\n",
    "        f'{gcp_username}@tmane-{i:03} '\n",
    "        f'--project ucr-ursa-major-lesani-lab '\n",
    "        f'--command \"sudo killall main-replication-protocols\"'\n",
    "    )\n",
    "    output = subprocess.getoutput(command)\n",
    "    print(output)\n"
   ]
  },
  {
   "cell_type": "code",
   "execution_count": null,
   "id": "7b8473c8-5c99-4f35-8c7a-2a3f19edb828",
   "metadata": {},
   "outputs": [],
   "source": []
  },
  {
   "cell_type": "markdown",
   "id": "ecf552b8-0706-4acb-b0d2-7e131fc7a29b",
   "metadata": {},
   "source": [
    "## RESTART"
   ]
  },
  {
   "cell_type": "code",
   "execution_count": null,
   "id": "482830f5-87bd-4536-8b9c-bd89b20578d4",
   "metadata": {
    "scrolled": true
   },
   "outputs": [],
   "source": [
    "\n",
    "for i in range(num_nodes):\n",
    "    kill_code(i)\n",
    "\n",
    "    \n",
    "os.system('git add .; git commit -m \"test\"; git push -f origin HEAD:main')\n",
    "\n",
    "def git_pull(i):\n",
    "\n",
    "    command = 'gcloud compute ssh --zone \"us-central1-a\" \"tmane-'+f\"{i:03}\"+'\" --project \"ucr-ursa-major-lesani-lab\" --command \"cd Optimistic-Replication ; git pull;\"'\n",
    "\n",
    "    print(command)\n",
    "\n",
    "    output = os.system(command)\n",
    "    print(output)\n",
    "results = Parallel(n_jobs=60, prefer=\"threads\")(delayed(git_pull)(i) for i in range(num_nodes))"
   ]
  },
  {
   "cell_type": "code",
   "execution_count": null,
   "id": "596d12ba",
   "metadata": {},
   "outputs": [],
   "source": [
    "def setup(i):\n",
    "    command = (\n",
    "        f'gcloud compute ssh --zone us-central1-a '\n",
    "        f'{gcp_username}@tmane-{i:03} '\n",
    "        f'--project ucr-ursa-major-lesani-lab '\n",
    "        f'--command \"cd Optimistic-Replication; cp optrep_script.sh ../optrep_script.sh; cd ../; sh optrep_script.sh {num_nodes} {num_txns} {write_percent} {usecase} > /home/{gcp_username}/log.txt\"'\n",
    "    )\n",
    "    os.system(command)\n",
    "\n",
    "    "
   ]
  },
  {
   "cell_type": "code",
   "execution_count": null,
   "id": "5cd57207-574d-4a4e-95b8-b88fc7748faa",
   "metadata": {},
   "outputs": [],
   "source": [
    "num_txns"
   ]
  },
  {
   "cell_type": "code",
   "execution_count": null,
   "id": "dd96a245",
   "metadata": {
    "scrolled": true
   },
   "outputs": [],
   "source": [
    "results = Parallel(n_jobs=60, prefer=\"threads\")(delayed(setup)(i) for i in range(num_nodes))"
   ]
  },
  {
   "cell_type": "code",
   "execution_count": null,
   "id": "804d547f",
   "metadata": {},
   "outputs": [],
   "source": [
    "result = subprocess.check_output('gcloud compute instances list  --format=\"value(networkInterfaces[0].networkIP)\"', shell=True, text=True)\n",
    "\n",
    "# Convert the output to a list by splitting on newlines\n",
    "ip_list = result.splitlines()"
   ]
  },
  {
   "cell_type": "code",
   "execution_count": null,
   "id": "762bf35e-b07b-4110-8fe6-3da372b2a679",
   "metadata": {},
   "outputs": [],
   "source": [
    "ip_list"
   ]
  },
  {
   "cell_type": "code",
   "execution_count": null,
   "id": "55ed65e5",
   "metadata": {},
   "outputs": [],
   "source": [
    "def get_sorted_instance_ips():\n",
    "    result = subprocess.check_output(\n",
    "        \"gcloud compute instances list --filter='name~^tmane-' \"\n",
    "        \"--format='value(name,networkInterfaces[0].networkIP)'\",\n",
    "        shell=True\n",
    "    )\n",
    "    lines = result.decode().splitlines()\n",
    "    # Parse into list of tuples: (name, ip)\n",
    "    name_ip_pairs = [line.strip().split() for line in lines]\n",
    "    # Sort by name: optrep-000, optrep-001, ...\n",
    "    sorted_pairs = sorted(name_ip_pairs, key=lambda x: x[0])\n",
    "    # Extract sorted IPs\n",
    "    sorted_ips = [ip for name, ip in sorted_pairs]\n",
    "    return sorted_ips\n",
    "\n",
    "ip_list = get_sorted_instance_ips()\n",
    "ip_string = \" \".join(ip_list)"
   ]
  },
  {
   "cell_type": "code",
   "execution_count": null,
   "id": "e5dd07a8-4145-4bdc-b1e6-eb901b877f81",
   "metadata": {},
   "outputs": [],
   "source": [
    "ip_string"
   ]
  },
  {
   "cell_type": "code",
   "execution_count": null,
   "id": "d746a324",
   "metadata": {},
   "outputs": [],
   "source": [
    "def run_code(i):\n",
    "    output_dir = f\"../../wellcoordination/workload/{num_nodes}-{num_txns}-{write_percent}/{usecase}\"\n",
    "    output_file = f\"{output_dir}/result{i}.out\"\n",
    "    command = (\n",
    "        f'gcloud compute ssh --zone us-central1-a '\n",
    "        f'{gcp_username}@tmane-{i:03} '\n",
    "        f'--project ucr-ursa-major-lesani-lab '\n",
    "        f'--command \"cd Optimistic-Replication/tcp/build; '\n",
    "        f'sudo bash -c \\''\n",
    "        f'mkdir -p {output_dir}; '\n",
    "        f'nohup ./main-replication-protocols {i+1} {num_nodes} {num_txns} {write_percent} {usecase} {operationrate} {fialed_node_id} {ip_string} > {output_file} 2>&1 &'\n",
    "        f'\\'\"'\n",
    "    )\n",
    "    print(command)\n",
    "    output = subprocess.getoutput(command)\n",
    "    print(output)\n",
    "\n"
   ]
  },
  {
   "cell_type": "code",
   "execution_count": null,
   "id": "b72a7098",
   "metadata": {
    "scrolled": true
   },
   "outputs": [],
   "source": [
    "# results = Parallel(n_jobs=60)(delayed(run_code)(i) for i in range(num_nodes))\n",
    "\n",
    "for i in range(num_nodes):\n",
    "    run_code(i)\n"
   ]
  },
  {
   "cell_type": "code",
   "execution_count": null,
   "id": "c0888e8b-a2b9-4fd5-9cb6-0bddaeb4872a",
   "metadata": {
    "scrolled": true
   },
   "outputs": [],
   "source": [
    "time.sleep(30)  # Let it run for 30 seconds\n",
    "kill_code(3)    # Kill node 3 (id=3, 0-indexed position 2)\n",
    "time.sleep(60) "
   ]
  },
  {
   "cell_type": "code",
   "execution_count": null,
   "id": "f0826907",
   "metadata": {},
   "outputs": [],
   "source": [
    "for i in range(num_nodes):\n",
    "    kill_code(i)"
   ]
  },
  {
   "cell_type": "code",
   "execution_count": null,
   "id": "c31a003a-0377-48f0-9808-e8e855e7d839",
   "metadata": {},
   "outputs": [],
   "source": [
    "\n",
    "if not os.path.exists('../optrep_outputs'):\n",
    "    os.mkdir('../optrep_outputs')\n",
    "\n",
    "for i in [0,1, 2, 3]:\n",
    "    command = (\n",
    "        f'gcloud compute scp --zone us-central1-a '\n",
    "        f'{gcp_username}@tmane-{i:03}:/home/{gcp_username}/Optimistic-Replication/wellcoordination/workload/{num_nodes}-{num_txns}-{write_percent}/stack/result{i}.out '\n",
    "        f'../optrep_outputs/{i}.txt '\n",
    "        f'--project ucr-ursa-major-lesani-lab'\n",
    "    )\n",
    "    os.system(command)\n",
    "    # break"
   ]
  },
  {
   "cell_type": "code",
   "execution_count": null,
   "id": "49d6f778",
   "metadata": {
    "scrolled": true
   },
   "outputs": [],
   "source": [
    "# os.system('gcloud compute instances delete --zone=us-central1-a --quiet --project=ucr-ursa-major-lesani-lab $(gcloud compute instances list --project=ucr-ursa-major-lesani-lab --filter=\"name~^tmane-\" --format=\"value(name)\")')"
   ]
  },
  {
   "cell_type": "code",
   "execution_count": null,
   "id": "9554900a",
   "metadata": {},
   "outputs": [],
   "source": []
  },
  {
   "cell_type": "code",
   "execution_count": null,
   "id": "2eec1e32-487f-4bb5-a3b1-132f7bafdf43",
   "metadata": {},
   "outputs": [],
   "source": []
  },
  {
   "cell_type": "code",
   "execution_count": null,
   "id": "9b8a99ce-e3c2-4051-84a9-2312abcc0c99",
   "metadata": {},
   "outputs": [],
   "source": []
  },
  {
   "cell_type": "code",
   "execution_count": null,
   "id": "d6b11a3d-d22b-42d4-aced-39fa13bf50d1",
   "metadata": {},
   "outputs": [],
   "source": []
  },
  {
   "cell_type": "code",
   "execution_count": null,
   "id": "c57c4ce9-dcbb-423b-b0da-0e18cbd8beb8",
   "metadata": {},
   "outputs": [],
   "source": []
  },
  {
   "cell_type": "code",
   "execution_count": null,
   "id": "076e4efe-975a-4722-a8fd-f9b7f375a40b",
   "metadata": {},
   "outputs": [],
   "source": []
  },
  {
   "cell_type": "code",
   "execution_count": null,
   "id": "ea0513a6-c03d-4b1c-9fb2-cfb30bcf6041",
   "metadata": {},
   "outputs": [],
   "source": []
  },
  {
   "cell_type": "code",
   "execution_count": null,
   "id": "42c994d1-15ff-46b8-b9e0-fbc019d3de9f",
   "metadata": {},
   "outputs": [],
   "source": []
  },
  {
   "cell_type": "code",
   "execution_count": null,
   "id": "550cce40-8cad-45ef-bf2b-bfa609cbc315",
   "metadata": {},
   "outputs": [],
   "source": []
  },
  {
   "cell_type": "code",
   "execution_count": null,
   "id": "796e84d1-1575-4a76-ad34-87d408106d6b",
   "metadata": {},
   "outputs": [],
   "source": []
  },
  {
   "cell_type": "code",
   "execution_count": null,
   "id": "fa7a2826-e7af-45a2-911f-a2432db54e43",
   "metadata": {},
   "outputs": [],
   "source": []
  }
 ],
 "metadata": {
  "kernelspec": {
   "display_name": "Python 3 (ipykernel)",
   "language": "python",
   "name": "python3"
  },
  "language_info": {
   "codemirror_mode": {
    "name": "ipython",
    "version": 3
   },
   "file_extension": ".py",
   "mimetype": "text/x-python",
   "name": "python",
   "nbconvert_exporter": "python",
   "pygments_lexer": "ipython3",
   "version": "3.13.5"
  }
 },
 "nbformat": 4,
 "nbformat_minor": 5
}
