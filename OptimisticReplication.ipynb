{
 "cells": [
  {
   "cell_type": "code",
   "execution_count": 1,
   "id": "58fdbb5e",
   "metadata": {},
   "outputs": [],
   "source": [
    "import time\n",
    "import re\n",
    "import pylab as pl\n",
    "import numpy as np\n",
    "import pylab as pl\n",
    "\n",
    "from datetime import datetime, timedelta\n",
    "\n",
    "import subprocess\n",
    "\n",
    "import os\n",
    "import pandas as pd\n",
    "\n",
    "import concurrent.futures\n",
    "\n",
    "\n",
    "from joblib import Parallel, delayed\n",
    "import shutil\n",
    "\n",
    "\n",
    "from concurrent.futures import ThreadPoolExecutor, ProcessPoolExecutor"
   ]
  },
  {
   "cell_type": "code",
   "execution_count": 2,
   "id": "c4ef2359",
   "metadata": {},
   "outputs": [],
   "source": [
    "num_nodes = 4\n",
    "\n",
    "num_txns = 72000\n",
    "fialed_node_id = 2\n",
    "write_percent = 10\n",
    "usecase = 'stack'\n",
    "operationrate =1000000000"
   ]
  },
  {
   "cell_type": "code",
   "execution_count": 3,
   "id": "0848d47f-d887-44a1-aba4-81ec1563ef06",
   "metadata": {},
   "outputs": [],
   "source": [
    "gcp_username = 'tejas'"
   ]
  },
  {
   "cell_type": "code",
   "execution_count": 4,
   "id": "89a4194c",
   "metadata": {},
   "outputs": [
    {
     "name": "stderr",
     "output_type": "stream",
     "text": [
      "Created [https://www.googleapis.com/compute/v1/projects/ucr-ursa-major-lesani-lab/zones/us-central1-a/instances/tmane-003].\n",
      "WARNING: Some requests generated warnings:\n",
      " - The resource 'projects/rhel-cloud/global/images/rhel-8-v20240910' is deprecated. A suggested replacement is 'projects/rhel-cloud/global/images/rhel-8-v20241009'.\n",
      "\n"
     ]
    },
    {
     "name": "stdout",
     "output_type": "stream",
     "text": [
      "NAME       ZONE           MACHINE_TYPE  PREEMPTIBLE  INTERNAL_IP  EXTERNAL_IP      STATUS\n",
      "tmane-003  us-central1-a  e2-highcpu-4               10.128.0.65  173.255.119.109  RUNNING\n"
     ]
    },
    {
     "name": "stderr",
     "output_type": "stream",
     "text": [
      "Created [https://www.googleapis.com/compute/v1/projects/ucr-ursa-major-lesani-lab/zones/us-central1-a/instances/tmane-002].\n",
      "WARNING: Some requests generated warnings:\n",
      " - The resource 'projects/rhel-cloud/global/images/rhel-8-v20240910' is deprecated. A suggested replacement is 'projects/rhel-cloud/global/images/rhel-8-v20241009'.\n",
      "\n"
     ]
    },
    {
     "name": "stdout",
     "output_type": "stream",
     "text": [
      "NAME       ZONE           MACHINE_TYPE  PREEMPTIBLE  INTERNAL_IP  EXTERNAL_IP    STATUS\n",
      "tmane-002  us-central1-a  e2-highcpu-4               10.128.0.52  34.10.218.150  RUNNING\n"
     ]
    },
    {
     "name": "stderr",
     "output_type": "stream",
     "text": [
      "Created [https://www.googleapis.com/compute/v1/projects/ucr-ursa-major-lesani-lab/zones/us-central1-a/instances/tmane-001].\n",
      "WARNING: Some requests generated warnings:\n",
      " - The resource 'projects/rhel-cloud/global/images/rhel-8-v20240910' is deprecated. A suggested replacement is 'projects/rhel-cloud/global/images/rhel-8-v20241009'.\n",
      "\n"
     ]
    },
    {
     "name": "stdout",
     "output_type": "stream",
     "text": [
      "NAME       ZONE           MACHINE_TYPE  PREEMPTIBLE  INTERNAL_IP  EXTERNAL_IP  STATUS\n",
      "tmane-001  us-central1-a  e2-highcpu-4               10.128.0.41  34.58.48.94  RUNNING\n"
     ]
    },
    {
     "name": "stderr",
     "output_type": "stream",
     "text": [
      "Created [https://www.googleapis.com/compute/v1/projects/ucr-ursa-major-lesani-lab/zones/us-central1-a/instances/tmane-000].\n",
      "WARNING: Some requests generated warnings:\n",
      " - The resource 'projects/rhel-cloud/global/images/rhel-8-v20240910' is deprecated. A suggested replacement is 'projects/rhel-cloud/global/images/rhel-8-v20241009'.\n",
      "\n"
     ]
    },
    {
     "name": "stdout",
     "output_type": "stream",
     "text": [
      "NAME       ZONE           MACHINE_TYPE  PREEMPTIBLE  INTERNAL_IP  EXTERNAL_IP    STATUS\n",
      "tmane-000  us-central1-a  e2-highcpu-4               10.128.0.64  35.184.48.205  RUNNING\n"
     ]
    }
   ],
   "source": [
    "\n",
    "commands  = []\n",
    "\n",
    "\n",
    "\n",
    "for i in range(num_nodes):\n",
    "    cmd =  'gcloud compute instances create tmane-'+f\"{i:03}\"+' \\\n",
    "    --project=ucr-ursa-major-lesani-lab \\\n",
    "    --zone=us-central1-a \\\n",
    "    --machine-type=e2-highcpu-4 \\\n",
    "    --network-interface=network-tier=PREMIUM,stack-type=IPV4_ONLY,subnet=default \\\n",
    "    --maintenance-policy=MIGRATE \\\n",
    "    --provisioning-model=STANDARD \\\n",
    "    --service-account=961693926925-compute@developer.gserviceaccount.com \\\n",
    "    --scopes=https://www.googleapis.com/auth/devstorage.read_only,https://www.googleapis.com/auth/logging.write,https://www.googleapis.com/auth/monitoring.write,https://www.googleapis.com/auth/service.management.readonly,https://www.googleapis.com/auth/servicecontrol,https://www.googleapis.com/auth/trace.append \\\n",
    "    --create-disk=auto-delete=yes,boot=yes,device-name=instance-20241002-130909,image=projects/rhel-cloud/global/images/rhel-8-v20240910,mode=rw,size=20,type=pd-balanced \\\n",
    "    --no-shielded-secure-boot \\\n",
    "    --shielded-vtpm \\\n",
    "    --shielded-integrity-monitoring \\\n",
    "    --labels=goog-ec-src=vm_add-gcloud \\\n",
    "    --reservation-affinity=any'\n",
    "\n",
    "    commands.append(cmd)\n",
    "\n",
    "\n",
    "def run_command(command):\n",
    "    subprocess.call(command, shell=True)\n",
    "\n",
    "\n",
    "# Create a ThreadPoolExecutor or ProcessPoolExecutor, depending on your needs\n",
    "with concurrent.futures.ThreadPoolExecutor(max_workers=60) as executor:\n",
    "    # Submit each command to the executor for parallel execution\n",
    "    futures = [executor.submit(run_command, command) for command in commands]\n",
    "\n",
    "    # Wait for all tasks to complete\n",
    "    concurrent.futures.wait(futures)"
   ]
  },
  {
   "cell_type": "code",
   "execution_count": 5,
   "id": "d9e07501",
   "metadata": {},
   "outputs": [],
   "source": [
    "time.sleep(60)"
   ]
  },
  {
   "cell_type": "code",
   "execution_count": 6,
   "id": "5b968e3f-f772-4c59-bdb0-d8086be17f96",
   "metadata": {
    "scrolled": true
   },
   "outputs": [
    {
     "name": "stdout",
     "output_type": "stream",
     "text": [
      "[main 85f0539] test\n",
      " 1 file changed, 42 insertions(+), 1177 deletions(-)\n"
     ]
    },
    {
     "name": "stderr",
     "output_type": "stream",
     "text": [
      "To github.com:tejas-shivanand-mane/Optimistic-Replication.git\n",
      "   0614630..85f0539  HEAD -> main\n"
     ]
    },
    {
     "data": {
      "text/plain": [
       "0"
      ]
     },
     "execution_count": 6,
     "metadata": {},
     "output_type": "execute_result"
    }
   ],
   "source": [
    "os.system('git add .; git commit -m \"test\"; git push -f origin HEAD:main')\n"
   ]
  },
  {
   "cell_type": "code",
   "execution_count": null,
   "id": "8203f9a2",
   "metadata": {
    "scrolled": true
   },
   "outputs": [
    {
     "name": "stderr",
     "output_type": "stream",
     "text": [
      "Warning: Permanently added 'compute.7047952382726583201' (ED25519) to the list of known hosts.\n",
      "Warning: Permanently added 'compute.174957591804851105' (ED25519) to the list of known hosts.\n",
      "Warning: Permanently added 'compute.273034458499199905' (ED25519) to the list of known hosts.\n",
      "Warning: Permanently added 'compute.2671078892160758689' (ED25519) to the list of known hosts.\n"
     ]
    },
    {
     "name": "stdout",
     "output_type": "stream",
     "text": [
      "Google Compute Engine                            43 kB/s | 9.5 kB     00:00    \n",
      "Google Compute Engine                            41 kB/s | 9.5 kB     00:00    \n",
      "Google Compute Engine                            43 kB/s | 9.5 kB     00:00    \n",
      "Google Compute Engine                            44 kB/s | 9.5 kB     00:00    \n",
      "Google Cloud SDK                                 62 MB/s | 150 MB     00:02    \n",
      "Google Cloud SDK                                 58 MB/s | 150 MB     00:02    \n",
      "Google Cloud SDK                                 46 MB/s | 150 MB     00:03    \n",
      "Google Cloud SDK                                 40 MB/s | 150 MB     00:03    \n"
     ]
    }
   ],
   "source": [
    "def git_clone(i):\n",
    "\n",
    "    command = 'gcloud compute ssh --zone \"us-central1-a\" \"tmane-'+f\"{i:03}\"+'\" --project \"ucr-ursa-major-lesani-lab\" --command \"sudo yum update; sudo yum -y install git; git clone --branch main --single-branch https://github.com/tejas-shivanand-mane/Optimistic-Replication.git;\"'\n",
    "\n",
    "    print(command)\n",
    "\n",
    "    output = os.system(command)\n",
    "    print(output)\n",
    "results = Parallel(n_jobs=60)(delayed(git_clone)(i) for i in range(num_nodes))\n"
   ]
  },
  {
   "cell_type": "code",
   "execution_count": null,
   "id": "482830f5-87bd-4536-8b9c-bd89b20578d4",
   "metadata": {},
   "outputs": [],
   "source": [
    "os.system('git add .; git commit -m \"test\"; git push -f origin HEAD:main')\n",
    "\n",
    "def git_pull(i):\n",
    "\n",
    "    command = 'gcloud compute ssh --zone \"us-central1-a\" \"tmane-'+f\"{i:03}\"+'\" --project \"ucr-ursa-major-lesani-lab\" --command \"cd Optimistic-Replication ; git pull;\"'\n",
    "\n",
    "    print(command)\n",
    "\n",
    "    output = os.system(command)\n",
    "    print(output)\n",
    "results = Parallel(n_jobs=60)(delayed(git_pull)(i) for i in range(num_nodes))"
   ]
  },
  {
   "cell_type": "code",
   "execution_count": null,
   "id": "596d12ba",
   "metadata": {},
   "outputs": [],
   "source": [
    "def setup(i):\n",
    "    command = (\n",
    "        f'gcloud compute ssh --zone us-central1-a '\n",
    "        f'{gcp_username}@tmane-{i:03} '\n",
    "        f'--project ucr-ursa-major-lesani-lab '\n",
    "        f'--command \"cd Optimistic-Replication; cp optrep_script.sh ../optrep_script.sh; cd ../; sh optrep_script.sh {num_nodes} {num_txns} {write_percent} {usecase} > /home/{gcp_username}/log.txt\"'\n",
    "    )\n",
    "    os.system(command)\n",
    "\n",
    "    "
   ]
  },
  {
   "cell_type": "code",
   "execution_count": null,
   "id": "dd96a245",
   "metadata": {
    "scrolled": true
   },
   "outputs": [],
   "source": [
    "results = Parallel(n_jobs=60)(delayed(setup)(i) for i in range(num_nodes))"
   ]
  },
  {
   "cell_type": "code",
   "execution_count": null,
   "id": "804d547f",
   "metadata": {},
   "outputs": [],
   "source": [
    "result = subprocess.check_output('gcloud compute instances list  --format=\"value(networkInterfaces[0].networkIP)\"', shell=True, text=True)\n",
    "\n",
    "# Convert the output to a list by splitting on newlines\n",
    "ip_list = result.splitlines()"
   ]
  },
  {
   "cell_type": "code",
   "execution_count": null,
   "id": "55ed65e5",
   "metadata": {},
   "outputs": [],
   "source": [
    "def get_sorted_instance_ips():\n",
    "    result = subprocess.check_output(\n",
    "        \"gcloud compute instances list --filter='name~^tmane-' \"\n",
    "        \"--format='value(name,networkInterfaces[0].networkIP)'\",\n",
    "        shell=True\n",
    "    )\n",
    "    lines = result.decode().splitlines()\n",
    "    # Parse into list of tuples: (name, ip)\n",
    "    name_ip_pairs = [line.strip().split() for line in lines]\n",
    "    # Sort by name: optrep-000, optrep-001, ...\n",
    "    sorted_pairs = sorted(name_ip_pairs, key=lambda x: x[0])\n",
    "    # Extract sorted IPs\n",
    "    sorted_ips = [ip for name, ip in sorted_pairs]\n",
    "    return sorted_ips\n",
    "\n",
    "ip_list = get_sorted_instance_ips()\n",
    "ip_string = \" \".join(ip_list)"
   ]
  },
  {
   "cell_type": "code",
   "execution_count": null,
   "id": "e5dd07a8-4145-4bdc-b1e6-eb901b877f81",
   "metadata": {},
   "outputs": [],
   "source": [
    "ip_string"
   ]
  },
  {
   "cell_type": "code",
   "execution_count": null,
   "id": "d746a324",
   "metadata": {},
   "outputs": [],
   "source": [
    "def run_code(i):\n",
    "    # gcp_username = \"jsabe004\"\n",
    "    output_dir = f\"../../wellcoordination/workload/{num_nodes}-{num_txns}-{write_percent}/{usecase}\"\n",
    "    output_file = f\"{output_dir}/result{i}.out\"\n",
    "    command = (\n",
    "        f'gcloud compute ssh --zone us-central1-a '\n",
    "        f'{gcp_username}@tmane-{i:03} '\n",
    "        f'--project ucr-ursa-major-lesani-lab '\n",
    "        f'--command \" cd Optimistic-Replication/tcp/build; '\n",
    "        f'sudo mkdir -p {output_dir}; '\n",
    "        f'sudo nohup ./main-replication-protocols {i+1} {num_nodes} {num_txns} {write_percent} {usecase} {operationrate} {fialed_node_id} {ip_string} > {output_file} 2>&1 &\"'\n",
    "    )\n",
    "    print(command)\n",
    "    output = subprocess.getoutput(command)\n",
    "    print(output)"
   ]
  },
  {
   "cell_type": "code",
   "execution_count": null,
   "id": "b72a7098",
   "metadata": {},
   "outputs": [],
   "source": [
    "# results = Parallel(n_jobs=60)(delayed(run_code)(i) for i in range(num_nodes))\n",
    "\n",
    "for i in range(num_nodes):\n",
    "    run_code(i)\n"
   ]
  },
  {
   "cell_type": "code",
   "execution_count": null,
   "id": "8035c179",
   "metadata": {},
   "outputs": [],
   "source": [
    "time.sleep(10)"
   ]
  },
  {
   "cell_type": "code",
   "execution_count": null,
   "id": "6c182521-4860-48eb-a5d3-e3576b9f9d33",
   "metadata": {},
   "outputs": [],
   "source": [
    "def kill_code(i):\n",
    "    command = (\n",
    "        f'gcloud compute ssh --zone us-central1-a '\n",
    "        f'{gcp_username}@tmane-{i:03} '\n",
    "        f'--project ucr-ursa-major-lesani-lab '\n",
    "        f'--command \"sudo killall main-replication-protocols\"'\n",
    "    )\n",
    "    output = subprocess.getoutput(command)\n",
    "    print(output)\n",
    "\n",
    "kill_code(3)"
   ]
  },
  {
   "cell_type": "code",
   "execution_count": null,
   "id": "e9f64408-7784-4fb4-9e84-65a665fcdf0b",
   "metadata": {},
   "outputs": [],
   "source": [
    "time.sleep(20)\n"
   ]
  },
  {
   "cell_type": "code",
   "execution_count": null,
   "id": "f7430f4a",
   "metadata": {},
   "outputs": [],
   "source": [
    "\n",
    "if not os.path.exists('../optrep_outputs'):\n",
    "    os.mkdir('../optrep_outputs')\n",
    "\n",
    "for i in range(num_nodes):\n",
    "    command = (\n",
    "        f'gcloud compute scp --zone us-central1-a '\n",
    "        f'{gcp_username}@tmane-{i:03}:/home/{gcp_username}/Optimistic-Replication/wellcoordination/workload/{num_nodes}-{num_txns}-{write_percent}/stack/result{i}.out '\n",
    "        f'../optrep_outputs/{i}.txt '\n",
    "        f'--project ucr-ursa-major-lesani-lab'\n",
    "    )\n",
    "    os.system(command)\n",
    "    break"
   ]
  },
  {
   "cell_type": "code",
   "execution_count": null,
   "id": "40c03145",
   "metadata": {},
   "outputs": [],
   "source": []
  },
  {
   "cell_type": "code",
   "execution_count": null,
   "id": "f0826907",
   "metadata": {},
   "outputs": [],
   "source": [
    "for i in range(num_nodes):\n",
    "    kill_code(i)"
   ]
  },
  {
   "cell_type": "code",
   "execution_count": null,
   "id": "49d6f778",
   "metadata": {
    "scrolled": true
   },
   "outputs": [],
   "source": [
    "# os.system('gcloud compute instances delete --zone=us-central1-a --quiet --project=ucr-ursa-major-lesani-lab $(gcloud compute instances list --project=ucr-ursa-major-lesani-lab --filter=\"name~^tmane-\" --format=\"value(name)\")')"
   ]
  },
  {
   "cell_type": "code",
   "execution_count": null,
   "id": "9554900a",
   "metadata": {},
   "outputs": [],
   "source": []
  },
  {
   "cell_type": "code",
   "execution_count": null,
   "id": "2eec1e32-487f-4bb5-a3b1-132f7bafdf43",
   "metadata": {},
   "outputs": [],
   "source": []
  },
  {
   "cell_type": "code",
   "execution_count": null,
   "id": "9b8a99ce-e3c2-4051-84a9-2312abcc0c99",
   "metadata": {},
   "outputs": [],
   "source": []
  },
  {
   "cell_type": "code",
   "execution_count": null,
   "id": "d6b11a3d-d22b-42d4-aced-39fa13bf50d1",
   "metadata": {},
   "outputs": [],
   "source": []
  }
 ],
 "metadata": {
  "kernelspec": {
   "display_name": "Python 3 (ipykernel)",
   "language": "python",
   "name": "python3"
  },
  "language_info": {
   "codemirror_mode": {
    "name": "ipython",
    "version": 3
   },
   "file_extension": ".py",
   "mimetype": "text/x-python",
   "name": "python",
   "nbconvert_exporter": "python",
   "pygments_lexer": "ipython3",
   "version": "3.13.5"
  }
 },
 "nbformat": 4,
 "nbformat_minor": 5
}
