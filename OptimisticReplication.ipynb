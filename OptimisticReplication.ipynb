{
 "cells": [
  {
   "cell_type": "code",
   "execution_count": 1,
   "id": "58fdbb5e",
   "metadata": {},
   "outputs": [],
   "source": [
    "import time\n",
    "import re\n",
    "import pylab as pl\n",
    "import numpy as np\n",
    "import pylab as pl\n",
    "\n",
    "from datetime import datetime, timedelta\n",
    "\n",
    "import subprocess\n",
    "\n",
    "import os\n",
    "import pandas as pd\n",
    "\n",
    "import concurrent.futures\n",
    "\n",
    "\n",
    "from joblib import Parallel, delayed\n",
    "import shutil\n",
    "\n",
    "\n",
    "from concurrent.futures import ThreadPoolExecutor, ProcessPoolExecutor"
   ]
  },
  {
   "cell_type": "code",
   "execution_count": 2,
   "id": "c4ef2359",
   "metadata": {},
   "outputs": [],
   "source": [
    "num_nodes = 4\n",
    "\n",
    "num_txns = 7200\n",
    "fialed_node_id = 3\n",
    "write_percent = 10\n",
    "usecase = 'stack'\n",
    "operationrate =1000000000"
   ]
  },
  {
   "cell_type": "code",
   "execution_count": 3,
   "id": "0848d47f-d887-44a1-aba4-81ec1563ef06",
   "metadata": {},
   "outputs": [],
   "source": [
    "gcp_username = 'tejas'"
   ]
  },
  {
   "cell_type": "code",
   "execution_count": 6,
   "id": "89a4194c",
   "metadata": {},
   "outputs": [],
   "source": [
    "\n",
    "commands  = []\n",
    "\n",
    "\n",
    "\n",
    "for i in range(num_nodes):\n",
    "    cmd =  'gcloud compute instances create tmane-'+f\"{i:03}\"+' \\\n",
    "    --project=ucr-ursa-major-lesani-lab \\\n",
    "    --zone=us-central1-a \\\n",
    "    --machine-type=e2-highcpu-4 \\\n",
    "    --network-interface=network-tier=PREMIUM,stack-type=IPV4_ONLY,subnet=default \\\n",
    "    --maintenance-policy=MIGRATE \\\n",
    "    --provisioning-model=STANDARD \\\n",
    "    --service-account=961693926925-compute@developer.gserviceaccount.com \\\n",
    "    --scopes=https://www.googleapis.com/auth/devstorage.read_only,https://www.googleapis.com/auth/logging.write,https://www.googleapis.com/auth/monitoring.write,https://www.googleapis.com/auth/service.management.readonly,https://www.googleapis.com/auth/servicecontrol,https://www.googleapis.com/auth/trace.append \\\n",
    "    --create-disk=auto-delete=yes,boot=yes,device-name=instance-20241002-130909,image=projects/rhel-cloud/global/images/rhel-8-v20240910,mode=rw,size=20,type=pd-balanced \\\n",
    "    --no-shielded-secure-boot \\\n",
    "    --shielded-vtpm \\\n",
    "    --shielded-integrity-monitoring \\\n",
    "    --labels=goog-ec-src=vm_add-gcloud \\\n",
    "    --reservation-affinity=any'\n",
    "\n",
    "    commands.append(cmd)\n",
    "\n",
    "\n",
    "def run_command(command):\n",
    "    subprocess.call(command, shell=True)\n",
    "\n",
    "\n",
    "# # Create a ThreadPoolExecutor or ProcessPoolExecutor, depending on your needs\n",
    "# with concurrent.futures.ThreadPoolExecutor(max_workers=60) as executor:\n",
    "#     # Submit each command to the executor for parallel execution\n",
    "#     futures = [executor.submit(run_command, command) for command in commands]\n",
    "\n",
    "#     # Wait for all tasks to complete\n",
    "#     concurrent.futures.wait(futures)"
   ]
  },
  {
   "cell_type": "code",
   "execution_count": null,
   "id": "d9e07501",
   "metadata": {},
   "outputs": [],
   "source": [
    "# time.sleep(60)"
   ]
  },
  {
   "cell_type": "code",
   "execution_count": 5,
   "id": "5b968e3f-f772-4c59-bdb0-d8086be17f96",
   "metadata": {
    "scrolled": true
   },
   "outputs": [
    {
     "name": "stdout",
     "output_type": "stream",
     "text": [
      "[main c225bce] test\n",
      " 1 file changed, 29 insertions(+), 2612 deletions(-)\n"
     ]
    },
    {
     "name": "stderr",
     "output_type": "stream",
     "text": [
      "To github.com:tejas-shivanand-mane/Optimistic-Replication.git\n",
      "   1a5cf57..c225bce  HEAD -> main\n"
     ]
    },
    {
     "data": {
      "text/plain": [
       "0"
      ]
     },
     "execution_count": 5,
     "metadata": {},
     "output_type": "execute_result"
    }
   ],
   "source": [
    "# os.system('git add .; git commit -m \"test\"; git push -f origin HEAD:main')\n"
   ]
  },
  {
   "cell_type": "code",
   "execution_count": null,
   "id": "8203f9a2",
   "metadata": {
    "scrolled": true
   },
   "outputs": [],
   "source": [
    "def git_clone(i):\n",
    "\n",
    "    command = 'gcloud compute ssh --zone \"us-central1-a\" \"tmane-'+f\"{i:03}\"+'\" --project \"ucr-ursa-major-lesani-lab\" --command \"sudo yum update; sudo yum -y install git; git clone --branch main --single-branch https://github.com/tejas-shivanand-mane/Optimistic-Replication.git;\"'\n",
    "\n",
    "    print(command)\n",
    "\n",
    "    output = os.system(command)\n",
    "    print(output)\n",
    "results = Parallel(n_jobs=60, prefer=\"threads\")(delayed(git_clone)(i) for i in range(num_nodes))\n"
   ]
  },
  {
   "cell_type": "code",
   "execution_count": 7,
   "id": "4aca3497-fde1-4427-9648-89876ae301f3",
   "metadata": {},
   "outputs": [],
   "source": [
    "def kill_code(i):\n",
    "    command = (\n",
    "        f'gcloud compute ssh --zone us-central1-a '\n",
    "        f'{gcp_username}@tmane-{i:03} '\n",
    "        f'--project ucr-ursa-major-lesani-lab '\n",
    "        f'--command \"sudo killall main-replication-protocols\"'\n",
    "    )\n",
    "    output = subprocess.getoutput(command)\n",
    "    print(output)\n"
   ]
  },
  {
   "cell_type": "markdown",
   "id": "ecf552b8-0706-4acb-b0d2-7e131fc7a29b",
   "metadata": {},
   "source": [
    "## RESTART"
   ]
  },
  {
   "cell_type": "code",
   "execution_count": 42,
   "id": "482830f5-87bd-4536-8b9c-bd89b20578d4",
   "metadata": {
    "scrolled": true
   },
   "outputs": [
    {
     "name": "stdout",
     "output_type": "stream",
     "text": [
      "main-replication-protocols: no process found\n",
      "main-replication-protocols: no process found\n",
      "main-replication-protocols: no process found\n",
      "main-replication-protocols: no process found\n",
      "[main eb63e20] older main, old scl\n",
      " 2 files changed, 107 insertions(+), 134 deletions(-)\n"
     ]
    },
    {
     "name": "stderr",
     "output_type": "stream",
     "text": [
      "To github.com:tejas-shivanand-mane/Optimistic-Replication.git\n",
      "   67a2de3..eb63e20  HEAD -> main\n"
     ]
    },
    {
     "name": "stdout",
     "output_type": "stream",
     "text": [
      "gcloud compute ssh --zone \"us-central1-a\" \"tmane-003\" --project \"ucr-ursa-major-lesani-lab\" --command \"cd Optimistic-Replication ; git pull;\"\n",
      "gcloud compute ssh --zone \"us-central1-a\" \"tmane-001\" --project \"ucr-ursa-major-lesani-lab\" --command \"cd Optimistic-Replication ; git pull;\"\n",
      "gcloud compute ssh --zone \"us-central1-a\" \"tmane-000\" --project \"ucr-ursa-major-lesani-lab\" --command \"cd Optimistic-Replication ; git pull;\"\n",
      "gcloud compute ssh --zone \"us-central1-a\" \"tmane-002\" --project \"ucr-ursa-major-lesani-lab\" --command \"cd Optimistic-Replication ; git pull;\"\n"
     ]
    },
    {
     "name": "stderr",
     "output_type": "stream",
     "text": [
      "From https://github.com/tejas-shivanand-mane/Optimistic-Replication\n",
      "   67a2de3..eb63e20  main       -> origin/main\n",
      "From https://github.com/tejas-shivanand-mane/Optimistic-Replication\n",
      "   67a2de3..eb63e20  main       -> origin/main\n"
     ]
    },
    {
     "name": "stdout",
     "output_type": "stream",
     "text": [
      "Updating 67a2de3..eb63e20\n",
      "Fast-forward\n",
      " OptimisticReplication.ipynb        | 225 +++++++++++++++----------------------\n",
      " tcp/main-replication-protocols.cpp |  16 +++\n",
      " 2 files changed, 107 insertions(+), 134 deletions(-)\n",
      "0\n",
      "Updating 67a2de3..eb63e20\n",
      "Fast-forward\n",
      " OptimisticReplication.ipynb        | 225 +++++++++++++++----------------------\n",
      " tcp/main-replication-protocols.cpp |  16 +++\n",
      " 2 files changed, 107 insertions(+), 134 deletions(-)\n",
      "0\n",
      "Updating 67a2de3..eb63e20\n",
      "Fast-forward\n",
      " OptimisticReplication.ipynb        | 225 +++++++++++++++----------------------\n",
      " tcp/main-replication-protocols.cpp |  16 +++\n",
      " 2 files changed, 107 insertions(+), 134 deletions(-)\n",
      "Updating 67a2de3..eb63e20\n",
      "Fast-forward\n",
      " OptimisticReplication.ipynb        | 225 +++++++++++++++----------------------\n",
      " tcp/main-replication-protocols.cpp |  16 +++\n",
      " 2 files changed, 107 insertions(+), 134 deletions(-)\n",
      "0\n"
     ]
    },
    {
     "name": "stderr",
     "output_type": "stream",
     "text": [
      "From https://github.com/tejas-shivanand-mane/Optimistic-Replication\n",
      "   67a2de3..eb63e20  main       -> origin/main\n",
      "From https://github.com/tejas-shivanand-mane/Optimistic-Replication\n",
      "   67a2de3..eb63e20  main       -> origin/main\n"
     ]
    },
    {
     "name": "stdout",
     "output_type": "stream",
     "text": [
      "0\n"
     ]
    }
   ],
   "source": [
    "\n",
    "for i in range(num_nodes):\n",
    "    kill_code(i)\n",
    "\n",
    "    \n",
    "os.system('git add .; git commit -m \"older main, old scl\"; git push -f origin HEAD:main')\n",
    "\n",
    "def git_pull(i):\n",
    "\n",
    "    command = 'gcloud compute ssh --zone \"us-central1-a\" \"tmane-'+f\"{i:03}\"+'\" --project \"ucr-ursa-major-lesani-lab\" --command \"cd Optimistic-Replication ; git pull;\"'\n",
    "\n",
    "    print(command)\n",
    "\n",
    "    output = os.system(command)\n",
    "    print(output)\n",
    "results = Parallel(n_jobs=60, prefer=\"threads\")(delayed(git_pull)(i) for i in range(num_nodes))"
   ]
  },
  {
   "cell_type": "code",
   "execution_count": 43,
   "id": "596d12ba",
   "metadata": {},
   "outputs": [],
   "source": [
    "def setup(i):\n",
    "    command = (\n",
    "        f'gcloud compute ssh --zone us-central1-a '\n",
    "        f'{gcp_username}@tmane-{i:03} '\n",
    "        f'--project ucr-ursa-major-lesani-lab '\n",
    "        f'--command \"cd Optimistic-Replication; cp optrep_script.sh ../optrep_script.sh; cd ../; sh optrep_script.sh {num_nodes} {num_txns} {write_percent} {usecase} > /home/{gcp_username}/log.txt\"'\n",
    "    )\n",
    "    os.system(command)\n",
    "\n",
    "    "
   ]
  },
  {
   "cell_type": "code",
   "execution_count": 44,
   "id": "dd96a245",
   "metadata": {
    "scrolled": true
   },
   "outputs": [
    {
     "name": "stderr",
     "output_type": "stream",
     "text": [
      "In file included from stack-benchmark.cpp:12:\n",
      "project.hpp: In member function ‘bool Project::checkValidcall(Call)’:\n",
      "project.hpp:104:3: warning: no return statement in function returning non-void [-Wreturn-type]\n",
      "   }\n",
      "   ^\n",
      "In file included from stack-benchmark.cpp:12:\n",
      "project.hpp: In member function ‘bool Project::checkValidcall(Call)’:\n",
      "project.hpp:104:3: warning: no return statement in function returning non-void [-Wreturn-type]\n",
      "   }\n",
      "   ^\n",
      "mkdir: cannot create directory ‘workload’: File exists\n",
      "mkdir: cannot create directory ‘4-7200-10’: File exists\n",
      "mkdir: cannot create directory ‘stack’: File exists\n",
      "mkdir: cannot create directory ‘workload’: File exists\n",
      "mkdir: cannot create directory ‘4-7200-10’: File exists\n",
      "mkdir: cannot create directory ‘stack’: File exists\n",
      "CMake Deprecation Warning at /home/tejas/Optimistic-Replication/junction/CMakeLists.txt:1 (cmake_minimum_required):\n",
      "  Compatibility with CMake < 2.8.12 will be removed from a future version of\n",
      "  CMake.\n",
      "\n",
      "  Update the VERSION argument <min> value or use a ...<max> suffix to tell\n",
      "  CMake that the project does not need compatibility with older versions.\n",
      "\n",
      "\n",
      "CMake Deprecation Warning at /home/tejas/Optimistic-Replication/turf/CMakeLists.txt:1 (cmake_minimum_required):\n",
      "  Compatibility with CMake < 2.8.12 will be removed from a future version of\n",
      "  CMake.\n",
      "\n",
      "  Update the VERSION argument <min> value or use a ...<max> suffix to tell\n",
      "  CMake that the project does not need compatibility with older versions.\n",
      "\n",
      "\n",
      "Checking for <stdint.h> -- yes\n",
      "Checking for noexcept keyword -- yes\n",
      "In file included from stack-benchmark.cpp:12:\n",
      "project.hpp: In member function ‘bool Project::checkValidcall(Call)’:\n",
      "project.hpp:104:3: warning: no return statement in function returning non-void [-Wreturn-type]\n",
      "   }\n",
      "   ^\n",
      "CMake Deprecation Warning at /home/tejas/Optimistic-Replication/junction/CMakeLists.txt:1 (cmake_minimum_required):\n",
      "  Compatibility with CMake < 2.8.12 will be removed from a future version of\n",
      "  CMake.\n",
      "\n",
      "  Update the VERSION argument <min> value or use a ...<max> suffix to tell\n",
      "  CMake that the project does not need compatibility with older versions.\n",
      "\n",
      "\n",
      "CMake Deprecation Warning at /home/tejas/Optimistic-Replication/turf/CMakeLists.txt:1 (cmake_minimum_required):\n",
      "  Compatibility with CMake < 2.8.12 will be removed from a future version of\n",
      "  CMake.\n",
      "\n",
      "  Update the VERSION argument <min> value or use a ...<max> suffix to tell\n",
      "  CMake that the project does not need compatibility with older versions.\n",
      "\n",
      "\n",
      "Checking for constexpr keyword -- yes\n",
      "Checking for <stdint.h> -- yes\n",
      "Checking for override keyword -- yes\n",
      "Checking for noexcept keyword -- yes\n",
      "Checking for long long -- yes\n",
      "Checking for constexpr keyword -- yes\n",
      "mkdir: cannot create directory ‘workload’: File exists\n",
      "mkdir: cannot create directory ‘4-7200-10’: File exists\n",
      "mkdir: cannot create directory ‘stack’: File exists\n",
      "Checking for static_assert -- yes\n",
      "Checking for override keyword -- yes\n",
      "Checking for std::move -- yes\n",
      "Checking for long long -- yes\n",
      "Checking for static_assert -- yes\n",
      "Checking for std::move -- yes\n",
      "CMake Deprecation Warning at /home/tejas/Optimistic-Replication/junction/CMakeLists.txt:1 (cmake_minimum_required):\n",
      "  Compatibility with CMake < 2.8.12 will be removed from a future version of\n",
      "  CMake.\n",
      "\n",
      "  Update the VERSION argument <min> value or use a ...<max> suffix to tell\n",
      "  CMake that the project does not need compatibility with older versions.\n",
      "\n",
      "\n",
      "CMake Deprecation Warning at /home/tejas/Optimistic-Replication/turf/CMakeLists.txt:1 (cmake_minimum_required):\n",
      "  Compatibility with CMake < 2.8.12 will be removed from a future version of\n",
      "  CMake.\n",
      "\n",
      "  Update the VERSION argument <min> value or use a ...<max> suffix to tell\n",
      "  CMake that the project does not need compatibility with older versions.\n",
      "\n",
      "\n",
      "In file included from stack-benchmark.cpp:12:\n",
      "project.hpp: In member function ‘bool Project::checkValidcall(Call)’:\n",
      "project.hpp:104:3: warning: no return statement in function returning non-void [-Wreturn-type]\n",
      "   }\n",
      "   ^\n",
      "Checking for <stdint.h> -- yes\n",
      "Checking for noexcept keyword -- yes\n",
      "Checking for constexpr keyword -- yes\n",
      "mkdir: cannot create directory ‘workload’: File exists\n",
      "mkdir: cannot create directory ‘4-7200-10’: File exists\n",
      "mkdir: cannot create directory ‘stack’: File exists\n",
      "Checking for override keyword -- yes\n",
      "Checking for long long -- yes\n",
      "Checking for static_assert -- yes\n",
      "Checking for std::move -- yes\n",
      "CMake Deprecation Warning at /home/tejas/Optimistic-Replication/junction/CMakeLists.txt:1 (cmake_minimum_required):\n",
      "  Compatibility with CMake < 2.8.12 will be removed from a future version of\n",
      "  CMake.\n",
      "\n",
      "  Update the VERSION argument <min> value or use a ...<max> suffix to tell\n",
      "  CMake that the project does not need compatibility with older versions.\n",
      "\n",
      "\n",
      "CMake Deprecation Warning at /home/tejas/Optimistic-Replication/turf/CMakeLists.txt:1 (cmake_minimum_required):\n",
      "  Compatibility with CMake < 2.8.12 will be removed from a future version of\n",
      "  CMake.\n",
      "\n",
      "  Update the VERSION argument <min> value or use a ...<max> suffix to tell\n",
      "  CMake that the project does not need compatibility with older versions.\n",
      "\n",
      "\n",
      "Checking for <stdint.h> -- yes\n",
      "Checking for noexcept keyword -- yes\n",
      "Checking for constexpr keyword -- yes\n",
      "Checking for override keyword -- yes\n",
      "Checking for long long -- yes\n",
      "Checking for static_assert -- yes\n",
      "Checking for std::move -- yes\n",
      "In file included from /home/tejas/Optimistic-Replication/tcp/ServersCommunicationLayer.cpp:5,\n",
      "                 from /home/tejas/Optimistic-Replication/tcp/main-replication-protocols.cpp:9:\n",
      "/home/tejas/Optimistic-Replication/tcp/Thread.cpp: In static member function ‘static void* amirmohsen::Thread::runCaller(void*)’:\n",
      "/home/tejas/Optimistic-Replication/tcp/Thread.cpp:32:3: warning: no return statement in function returning non-void [-Wreturn-type]\n",
      "   }\n",
      "   ^\n",
      "In file included from /home/tejas/Optimistic-Replication/tcp/../protocol-hamsou.cpp:1,\n",
      "                 from /home/tejas/Optimistic-Replication/tcp/ServerConnection.cpp:18,\n",
      "                 from /home/tejas/Optimistic-Replication/tcp/ServersCommunicationLayer.cpp:6,\n",
      "                 from /home/tejas/Optimistic-Replication/tcp/main-replication-protocols.cpp:9:\n",
      "/home/tejas/Optimistic-Replication/junction/../wellcoordination/benchmark/project.hpp: In member function ‘bool Project::checkValidcall(Call)’:\n",
      "/home/tejas/Optimistic-Replication/junction/../wellcoordination/benchmark/project.hpp:104:3: warning: no return statement in function returning non-void [-Wreturn-type]\n",
      "   }\n",
      "   ^\n",
      "In file included from /home/tejas/Optimistic-Replication/tcp/../protocol-hamsou.cpp:2,\n",
      "                 from /home/tejas/Optimistic-Replication/tcp/ServerConnection.cpp:18,\n",
      "                 from /home/tejas/Optimistic-Replication/tcp/ServersCommunicationLayer.cpp:6,\n",
      "                 from /home/tejas/Optimistic-Replication/tcp/main-replication-protocols.cpp:9:\n",
      "/home/tejas/Optimistic-Replication/junction/../wellcoordination/benchmark/stack.hpp: In member function ‘bool Stack::checkValidcall(Call)’:\n",
      "/home/tejas/Optimistic-Replication/junction/../wellcoordination/benchmark/stack.hpp:76:3: warning: no return statement in function returning non-void [-Wreturn-type]\n",
      "   }\n",
      "   ^\n",
      "In file included from /home/tejas/Optimistic-Replication/tcp/../protocol-hamsou.cpp:3,\n",
      "                 from /home/tejas/Optimistic-Replication/tcp/ServerConnection.cpp:18,\n",
      "                 from /home/tejas/Optimistic-Replication/tcp/ServersCommunicationLayer.cpp:6,\n",
      "                 from /home/tejas/Optimistic-Replication/tcp/main-replication-protocols.cpp:9:\n",
      "/home/tejas/Optimistic-Replication/junction/../wellcoordination/benchmark/set.hpp: In member function ‘bool Set::checkValidcall(Call)’:\n",
      "/home/tejas/Optimistic-Replication/junction/../wellcoordination/benchmark/set.hpp:77:3: warning: no return statement in function returning non-void [-Wreturn-type]\n",
      "   }\n",
      "   ^\n",
      "In file included from /home/tejas/Optimistic-Replication/tcp/../protocol-hamsou.cpp:4,\n",
      "                 from /home/tejas/Optimistic-Replication/tcp/ServerConnection.cpp:18,\n",
      "                 from /home/tejas/Optimistic-Replication/tcp/ServersCommunicationLayer.cpp:6,\n",
      "                 from /home/tejas/Optimistic-Replication/tcp/main-replication-protocols.cpp:9:\n",
      "/home/tejas/Optimistic-Replication/junction/../wellcoordination/benchmark/movie.hpp: In member function ‘bool Movie::checkValidcall(Call)’:\n",
      "/home/tejas/Optimistic-Replication/junction/../wellcoordination/benchmark/movie.hpp:81:3: warning: no return statement in function returning non-void [-Wreturn-type]\n",
      "   }\n",
      "   ^\n",
      "In file included from /home/tejas/Optimistic-Replication/tcp/../protocol-hamsou.cpp:5,\n",
      "                 from /home/tejas/Optimistic-Replication/tcp/ServerConnection.cpp:18,\n",
      "                 from /home/tejas/Optimistic-Replication/tcp/ServersCommunicationLayer.cpp:6,\n",
      "                 from /home/tejas/Optimistic-Replication/tcp/main-replication-protocols.cpp:9:\n",
      "/home/tejas/Optimistic-Replication/junction/../wellcoordination/benchmark/courseware.hpp: In member function ‘bool Courseware::checkValidcall(Call)’:\n",
      "/home/tejas/Optimistic-Replication/junction/../wellcoordination/benchmark/courseware.hpp:93:3: warning: no return statement in function returning non-void [-Wreturn-type]\n",
      "   }\n",
      "   ^\n",
      "In file included from /home/tejas/Optimistic-Replication/tcp/../protocol-hamsou.cpp:7,\n",
      "                 from /home/tejas/Optimistic-Replication/tcp/ServerConnection.cpp:18,\n",
      "                 from /home/tejas/Optimistic-Replication/tcp/ServersCommunicationLayer.cpp:6,\n",
      "                 from /home/tejas/Optimistic-Replication/tcp/main-replication-protocols.cpp:9:\n",
      "/home/tejas/Optimistic-Replication/junction/../wellcoordination/benchmark/op-crdt-reg.hpp: In member function ‘bool Opcrdtreg::checkValidcall(Call)’:\n",
      "/home/tejas/Optimistic-Replication/junction/../wellcoordination/benchmark/op-crdt-reg.hpp:191:3: warning: no return statement in function returning non-void [-Wreturn-type]\n",
      "   }\n",
      "   ^\n",
      "In file included from /home/tejas/Optimistic-Replication/tcp/../protocol-hamsou.cpp:8,\n",
      "                 from /home/tejas/Optimistic-Replication/tcp/ServerConnection.cpp:18,\n",
      "                 from /home/tejas/Optimistic-Replication/tcp/ServersCommunicationLayer.cpp:6,\n",
      "                 from /home/tejas/Optimistic-Replication/tcp/main-replication-protocols.cpp:9:\n",
      "/home/tejas/Optimistic-Replication/junction/../wellcoordination/benchmark/op-crdt-gset.hpp: In member function ‘bool Opcrdtgset::checkValidcall(Call)’:\n",
      "/home/tejas/Optimistic-Replication/junction/../wellcoordination/benchmark/op-crdt-gset.hpp:189:3: warning: no return statement in function returning non-void [-Wreturn-type]\n",
      "   }\n",
      "   ^\n",
      "In file included from /home/tejas/Optimistic-Replication/tcp/../protocol-hamsou.cpp:9,\n",
      "                 from /home/tejas/Optimistic-Replication/tcp/ServerConnection.cpp:18,\n",
      "                 from /home/tejas/Optimistic-Replication/tcp/ServersCommunicationLayer.cpp:6,\n",
      "                 from /home/tejas/Optimistic-Replication/tcp/main-replication-protocols.cpp:9:\n",
      "/home/tejas/Optimistic-Replication/junction/../wellcoordination/benchmark/op-crdt-counter.hpp: In member function ‘bool Opcrdtcounter::checkValidcall(Call)’:\n",
      "/home/tejas/Optimistic-Replication/junction/../wellcoordination/benchmark/op-crdt-counter.hpp:189:3: warning: no return statement in function returning non-void [-Wreturn-type]\n",
      "   }\n",
      "   ^\n",
      "In file included from /home/tejas/Optimistic-Replication/tcp/ServersCommunicationLayer.cpp:5,\n",
      "                 from /home/tejas/Optimistic-Replication/tcp/main-replication-protocols.cpp:9:\n",
      "/home/tejas/Optimistic-Replication/tcp/Thread.cpp: In static member function ‘static void* amirmohsen::Thread::runCaller(void*)’:\n",
      "/home/tejas/Optimistic-Replication/tcp/Thread.cpp:32:3: warning: no return statement in function returning non-void [-Wreturn-type]\n",
      "   }\n",
      "   ^\n",
      "In file included from /home/tejas/Optimistic-Replication/tcp/../protocol-hamsou.cpp:1,\n",
      "                 from /home/tejas/Optimistic-Replication/tcp/ServerConnection.cpp:18,\n",
      "                 from /home/tejas/Optimistic-Replication/tcp/ServersCommunicationLayer.cpp:6,\n",
      "                 from /home/tejas/Optimistic-Replication/tcp/main-replication-protocols.cpp:9:\n",
      "/home/tejas/Optimistic-Replication/junction/../wellcoordination/benchmark/project.hpp: In member function ‘bool Project::checkValidcall(Call)’:\n",
      "/home/tejas/Optimistic-Replication/junction/../wellcoordination/benchmark/project.hpp:104:3: warning: no return statement in function returning non-void [-Wreturn-type]\n",
      "   }\n",
      "   ^\n",
      "In file included from /home/tejas/Optimistic-Replication/tcp/../protocol-hamsou.cpp:2,\n",
      "                 from /home/tejas/Optimistic-Replication/tcp/ServerConnection.cpp:18,\n",
      "                 from /home/tejas/Optimistic-Replication/tcp/ServersCommunicationLayer.cpp:6,\n",
      "                 from /home/tejas/Optimistic-Replication/tcp/main-replication-protocols.cpp:9:\n",
      "/home/tejas/Optimistic-Replication/junction/../wellcoordination/benchmark/stack.hpp: In member function ‘bool Stack::checkValidcall(Call)’:\n",
      "/home/tejas/Optimistic-Replication/junction/../wellcoordination/benchmark/stack.hpp:76:3: warning: no return statement in function returning non-void [-Wreturn-type]\n",
      "   }\n",
      "   ^\n",
      "In file included from /home/tejas/Optimistic-Replication/tcp/../protocol-hamsou.cpp:3,\n",
      "                 from /home/tejas/Optimistic-Replication/tcp/ServerConnection.cpp:18,\n",
      "                 from /home/tejas/Optimistic-Replication/tcp/ServersCommunicationLayer.cpp:6,\n",
      "                 from /home/tejas/Optimistic-Replication/tcp/main-replication-protocols.cpp:9:\n",
      "/home/tejas/Optimistic-Replication/junction/../wellcoordination/benchmark/set.hpp: In member function ‘bool Set::checkValidcall(Call)’:\n",
      "/home/tejas/Optimistic-Replication/junction/../wellcoordination/benchmark/set.hpp:77:3: warning: no return statement in function returning non-void [-Wreturn-type]\n",
      "   }\n",
      "   ^\n",
      "In file included from /home/tejas/Optimistic-Replication/tcp/../protocol-hamsou.cpp:4,\n",
      "                 from /home/tejas/Optimistic-Replication/tcp/ServerConnection.cpp:18,\n",
      "                 from /home/tejas/Optimistic-Replication/tcp/ServersCommunicationLayer.cpp:6,\n",
      "                 from /home/tejas/Optimistic-Replication/tcp/main-replication-protocols.cpp:9:\n",
      "/home/tejas/Optimistic-Replication/junction/../wellcoordination/benchmark/movie.hpp: In member function ‘bool Movie::checkValidcall(Call)’:\n",
      "/home/tejas/Optimistic-Replication/junction/../wellcoordination/benchmark/movie.hpp:81:3: warning: no return statement in function returning non-void [-Wreturn-type]\n",
      "   }\n",
      "   ^\n",
      "In file included from /home/tejas/Optimistic-Replication/tcp/../protocol-hamsou.cpp:5,\n",
      "                 from /home/tejas/Optimistic-Replication/tcp/ServerConnection.cpp:18,\n",
      "                 from /home/tejas/Optimistic-Replication/tcp/ServersCommunicationLayer.cpp:6,\n",
      "                 from /home/tejas/Optimistic-Replication/tcp/main-replication-protocols.cpp:9:\n",
      "/home/tejas/Optimistic-Replication/junction/../wellcoordination/benchmark/courseware.hpp: In member function ‘bool Courseware::checkValidcall(Call)’:\n",
      "/home/tejas/Optimistic-Replication/junction/../wellcoordination/benchmark/courseware.hpp:93:3: warning: no return statement in function returning non-void [-Wreturn-type]\n",
      "   }\n",
      "   ^\n",
      "In file included from /home/tejas/Optimistic-Replication/tcp/../protocol-hamsou.cpp:7,\n",
      "                 from /home/tejas/Optimistic-Replication/tcp/ServerConnection.cpp:18,\n",
      "                 from /home/tejas/Optimistic-Replication/tcp/ServersCommunicationLayer.cpp:6,\n",
      "                 from /home/tejas/Optimistic-Replication/tcp/main-replication-protocols.cpp:9:\n",
      "/home/tejas/Optimistic-Replication/junction/../wellcoordination/benchmark/op-crdt-reg.hpp: In member function ‘bool Opcrdtreg::checkValidcall(Call)’:\n",
      "/home/tejas/Optimistic-Replication/junction/../wellcoordination/benchmark/op-crdt-reg.hpp:191:3: warning: no return statement in function returning non-void [-Wreturn-type]\n",
      "   }\n",
      "   ^\n",
      "In file included from /home/tejas/Optimistic-Replication/tcp/../protocol-hamsou.cpp:8,\n",
      "                 from /home/tejas/Optimistic-Replication/tcp/ServerConnection.cpp:18,\n",
      "                 from /home/tejas/Optimistic-Replication/tcp/ServersCommunicationLayer.cpp:6,\n",
      "                 from /home/tejas/Optimistic-Replication/tcp/main-replication-protocols.cpp:9:\n",
      "/home/tejas/Optimistic-Replication/junction/../wellcoordination/benchmark/op-crdt-gset.hpp: In member function ‘bool Opcrdtgset::checkValidcall(Call)’:\n",
      "/home/tejas/Optimistic-Replication/junction/../wellcoordination/benchmark/op-crdt-gset.hpp:189:3: warning: no return statement in function returning non-void [-Wreturn-type]\n",
      "   }\n",
      "   ^\n",
      "In file included from /home/tejas/Optimistic-Replication/tcp/../protocol-hamsou.cpp:9,\n",
      "                 from /home/tejas/Optimistic-Replication/tcp/ServerConnection.cpp:18,\n",
      "                 from /home/tejas/Optimistic-Replication/tcp/ServersCommunicationLayer.cpp:6,\n",
      "                 from /home/tejas/Optimistic-Replication/tcp/main-replication-protocols.cpp:9:\n",
      "/home/tejas/Optimistic-Replication/junction/../wellcoordination/benchmark/op-crdt-counter.hpp: In member function ‘bool Opcrdtcounter::checkValidcall(Call)’:\n",
      "/home/tejas/Optimistic-Replication/junction/../wellcoordination/benchmark/op-crdt-counter.hpp:189:3: warning: no return statement in function returning non-void [-Wreturn-type]\n",
      "   }\n",
      "   ^\n",
      "In file included from /home/tejas/Optimistic-Replication/tcp/ServersCommunicationLayer.cpp:5,\n",
      "                 from /home/tejas/Optimistic-Replication/tcp/main-replication-protocols.cpp:9:\n",
      "/home/tejas/Optimistic-Replication/tcp/Thread.cpp: In static member function ‘static void* amirmohsen::Thread::runCaller(void*)’:\n",
      "/home/tejas/Optimistic-Replication/tcp/Thread.cpp:32:3: warning: no return statement in function returning non-void [-Wreturn-type]\n",
      "   }\n",
      "   ^\n",
      "In file included from /home/tejas/Optimistic-Replication/tcp/../protocol-hamsou.cpp:1,\n",
      "                 from /home/tejas/Optimistic-Replication/tcp/ServerConnection.cpp:18,\n",
      "                 from /home/tejas/Optimistic-Replication/tcp/ServersCommunicationLayer.cpp:6,\n",
      "                 from /home/tejas/Optimistic-Replication/tcp/main-replication-protocols.cpp:9:\n",
      "/home/tejas/Optimistic-Replication/junction/../wellcoordination/benchmark/project.hpp: In member function ‘bool Project::checkValidcall(Call)’:\n",
      "/home/tejas/Optimistic-Replication/junction/../wellcoordination/benchmark/project.hpp:104:3: warning: no return statement in function returning non-void [-Wreturn-type]\n",
      "   }\n",
      "   ^\n",
      "In file included from /home/tejas/Optimistic-Replication/tcp/../protocol-hamsou.cpp:2,\n",
      "                 from /home/tejas/Optimistic-Replication/tcp/ServerConnection.cpp:18,\n",
      "                 from /home/tejas/Optimistic-Replication/tcp/ServersCommunicationLayer.cpp:6,\n",
      "                 from /home/tejas/Optimistic-Replication/tcp/main-replication-protocols.cpp:9:\n",
      "/home/tejas/Optimistic-Replication/junction/../wellcoordination/benchmark/stack.hpp: In member function ‘bool Stack::checkValidcall(Call)’:\n",
      "/home/tejas/Optimistic-Replication/junction/../wellcoordination/benchmark/stack.hpp:76:3: warning: no return statement in function returning non-void [-Wreturn-type]\n",
      "   }\n",
      "   ^\n",
      "In file included from /home/tejas/Optimistic-Replication/tcp/../protocol-hamsou.cpp:3,\n",
      "                 from /home/tejas/Optimistic-Replication/tcp/ServerConnection.cpp:18,\n",
      "                 from /home/tejas/Optimistic-Replication/tcp/ServersCommunicationLayer.cpp:6,\n",
      "                 from /home/tejas/Optimistic-Replication/tcp/main-replication-protocols.cpp:9:\n",
      "/home/tejas/Optimistic-Replication/junction/../wellcoordination/benchmark/set.hpp: In member function ‘bool Set::checkValidcall(Call)’:\n",
      "/home/tejas/Optimistic-Replication/junction/../wellcoordination/benchmark/set.hpp:77:3: warning: no return statement in function returning non-void [-Wreturn-type]\n",
      "   }\n",
      "   ^\n",
      "In file included from /home/tejas/Optimistic-Replication/tcp/../protocol-hamsou.cpp:4,\n",
      "                 from /home/tejas/Optimistic-Replication/tcp/ServerConnection.cpp:18,\n",
      "                 from /home/tejas/Optimistic-Replication/tcp/ServersCommunicationLayer.cpp:6,\n",
      "                 from /home/tejas/Optimistic-Replication/tcp/main-replication-protocols.cpp:9:\n",
      "/home/tejas/Optimistic-Replication/junction/../wellcoordination/benchmark/movie.hpp: In member function ‘bool Movie::checkValidcall(Call)’:\n",
      "/home/tejas/Optimistic-Replication/junction/../wellcoordination/benchmark/movie.hpp:81:3: warning: no return statement in function returning non-void [-Wreturn-type]\n",
      "   }\n",
      "   ^\n",
      "In file included from /home/tejas/Optimistic-Replication/tcp/../protocol-hamsou.cpp:5,\n",
      "                 from /home/tejas/Optimistic-Replication/tcp/ServerConnection.cpp:18,\n",
      "                 from /home/tejas/Optimistic-Replication/tcp/ServersCommunicationLayer.cpp:6,\n",
      "                 from /home/tejas/Optimistic-Replication/tcp/main-replication-protocols.cpp:9:\n",
      "/home/tejas/Optimistic-Replication/junction/../wellcoordination/benchmark/courseware.hpp: In member function ‘bool Courseware::checkValidcall(Call)’:\n",
      "/home/tejas/Optimistic-Replication/junction/../wellcoordination/benchmark/courseware.hpp:93:3: warning: no return statement in function returning non-void [-Wreturn-type]\n",
      "   }\n",
      "   ^\n",
      "In file included from /home/tejas/Optimistic-Replication/tcp/../protocol-hamsou.cpp:7,\n",
      "                 from /home/tejas/Optimistic-Replication/tcp/ServerConnection.cpp:18,\n",
      "                 from /home/tejas/Optimistic-Replication/tcp/ServersCommunicationLayer.cpp:6,\n",
      "                 from /home/tejas/Optimistic-Replication/tcp/main-replication-protocols.cpp:9:\n",
      "/home/tejas/Optimistic-Replication/junction/../wellcoordination/benchmark/op-crdt-reg.hpp: In member function ‘bool Opcrdtreg::checkValidcall(Call)’:\n",
      "/home/tejas/Optimistic-Replication/junction/../wellcoordination/benchmark/op-crdt-reg.hpp:191:3: warning: no return statement in function returning non-void [-Wreturn-type]\n",
      "   }\n",
      "   ^\n",
      "In file included from /home/tejas/Optimistic-Replication/tcp/../protocol-hamsou.cpp:8,\n",
      "                 from /home/tejas/Optimistic-Replication/tcp/ServerConnection.cpp:18,\n",
      "                 from /home/tejas/Optimistic-Replication/tcp/ServersCommunicationLayer.cpp:6,\n",
      "                 from /home/tejas/Optimistic-Replication/tcp/main-replication-protocols.cpp:9:\n",
      "/home/tejas/Optimistic-Replication/junction/../wellcoordination/benchmark/op-crdt-gset.hpp: In member function ‘bool Opcrdtgset::checkValidcall(Call)’:\n",
      "/home/tejas/Optimistic-Replication/junction/../wellcoordination/benchmark/op-crdt-gset.hpp:189:3: warning: no return statement in function returning non-void [-Wreturn-type]\n",
      "   }\n",
      "   ^\n",
      "In file included from /home/tejas/Optimistic-Replication/tcp/../protocol-hamsou.cpp:9,\n",
      "                 from /home/tejas/Optimistic-Replication/tcp/ServerConnection.cpp:18,\n",
      "                 from /home/tejas/Optimistic-Replication/tcp/ServersCommunicationLayer.cpp:6,\n",
      "                 from /home/tejas/Optimistic-Replication/tcp/main-replication-protocols.cpp:9:\n",
      "/home/tejas/Optimistic-Replication/junction/../wellcoordination/benchmark/op-crdt-counter.hpp: In member function ‘bool Opcrdtcounter::checkValidcall(Call)’:\n",
      "/home/tejas/Optimistic-Replication/junction/../wellcoordination/benchmark/op-crdt-counter.hpp:189:3: warning: no return statement in function returning non-void [-Wreturn-type]\n",
      "   }\n",
      "   ^\n",
      "In file included from /home/tejas/Optimistic-Replication/tcp/ServersCommunicationLayer.cpp:5,\n",
      "                 from /home/tejas/Optimistic-Replication/tcp/main-replication-protocols.cpp:9:\n",
      "/home/tejas/Optimistic-Replication/tcp/Thread.cpp: In static member function ‘static void* amirmohsen::Thread::runCaller(void*)’:\n",
      "/home/tejas/Optimistic-Replication/tcp/Thread.cpp:32:3: warning: no return statement in function returning non-void [-Wreturn-type]\n",
      "   }\n",
      "   ^\n",
      "In file included from /home/tejas/Optimistic-Replication/tcp/../protocol-hamsou.cpp:1,\n",
      "                 from /home/tejas/Optimistic-Replication/tcp/ServerConnection.cpp:18,\n",
      "                 from /home/tejas/Optimistic-Replication/tcp/ServersCommunicationLayer.cpp:6,\n",
      "                 from /home/tejas/Optimistic-Replication/tcp/main-replication-protocols.cpp:9:\n",
      "/home/tejas/Optimistic-Replication/junction/../wellcoordination/benchmark/project.hpp: In member function ‘bool Project::checkValidcall(Call)’:\n",
      "/home/tejas/Optimistic-Replication/junction/../wellcoordination/benchmark/project.hpp:104:3: warning: no return statement in function returning non-void [-Wreturn-type]\n",
      "   }\n",
      "   ^\n",
      "In file included from /home/tejas/Optimistic-Replication/tcp/../protocol-hamsou.cpp:2,\n",
      "                 from /home/tejas/Optimistic-Replication/tcp/ServerConnection.cpp:18,\n",
      "                 from /home/tejas/Optimistic-Replication/tcp/ServersCommunicationLayer.cpp:6,\n",
      "                 from /home/tejas/Optimistic-Replication/tcp/main-replication-protocols.cpp:9:\n",
      "/home/tejas/Optimistic-Replication/junction/../wellcoordination/benchmark/stack.hpp: In member function ‘bool Stack::checkValidcall(Call)’:\n",
      "/home/tejas/Optimistic-Replication/junction/../wellcoordination/benchmark/stack.hpp:76:3: warning: no return statement in function returning non-void [-Wreturn-type]\n",
      "   }\n",
      "   ^\n",
      "In file included from /home/tejas/Optimistic-Replication/tcp/../protocol-hamsou.cpp:3,\n",
      "                 from /home/tejas/Optimistic-Replication/tcp/ServerConnection.cpp:18,\n",
      "                 from /home/tejas/Optimistic-Replication/tcp/ServersCommunicationLayer.cpp:6,\n",
      "                 from /home/tejas/Optimistic-Replication/tcp/main-replication-protocols.cpp:9:\n",
      "/home/tejas/Optimistic-Replication/junction/../wellcoordination/benchmark/set.hpp: In member function ‘bool Set::checkValidcall(Call)’:\n",
      "/home/tejas/Optimistic-Replication/junction/../wellcoordination/benchmark/set.hpp:77:3: warning: no return statement in function returning non-void [-Wreturn-type]\n",
      "   }\n",
      "   ^\n",
      "In file included from /home/tejas/Optimistic-Replication/tcp/../protocol-hamsou.cpp:4,\n",
      "                 from /home/tejas/Optimistic-Replication/tcp/ServerConnection.cpp:18,\n",
      "                 from /home/tejas/Optimistic-Replication/tcp/ServersCommunicationLayer.cpp:6,\n",
      "                 from /home/tejas/Optimistic-Replication/tcp/main-replication-protocols.cpp:9:\n",
      "/home/tejas/Optimistic-Replication/junction/../wellcoordination/benchmark/movie.hpp: In member function ‘bool Movie::checkValidcall(Call)’:\n",
      "/home/tejas/Optimistic-Replication/junction/../wellcoordination/benchmark/movie.hpp:81:3: warning: no return statement in function returning non-void [-Wreturn-type]\n",
      "   }\n",
      "   ^\n",
      "In file included from /home/tejas/Optimistic-Replication/tcp/../protocol-hamsou.cpp:5,\n",
      "                 from /home/tejas/Optimistic-Replication/tcp/ServerConnection.cpp:18,\n",
      "                 from /home/tejas/Optimistic-Replication/tcp/ServersCommunicationLayer.cpp:6,\n",
      "                 from /home/tejas/Optimistic-Replication/tcp/main-replication-protocols.cpp:9:\n",
      "/home/tejas/Optimistic-Replication/junction/../wellcoordination/benchmark/courseware.hpp: In member function ‘bool Courseware::checkValidcall(Call)’:\n",
      "/home/tejas/Optimistic-Replication/junction/../wellcoordination/benchmark/courseware.hpp:93:3: warning: no return statement in function returning non-void [-Wreturn-type]\n",
      "   }\n",
      "   ^\n",
      "In file included from /home/tejas/Optimistic-Replication/tcp/../protocol-hamsou.cpp:7,\n",
      "                 from /home/tejas/Optimistic-Replication/tcp/ServerConnection.cpp:18,\n",
      "                 from /home/tejas/Optimistic-Replication/tcp/ServersCommunicationLayer.cpp:6,\n",
      "                 from /home/tejas/Optimistic-Replication/tcp/main-replication-protocols.cpp:9:\n",
      "/home/tejas/Optimistic-Replication/junction/../wellcoordination/benchmark/op-crdt-reg.hpp: In member function ‘bool Opcrdtreg::checkValidcall(Call)’:\n",
      "/home/tejas/Optimistic-Replication/junction/../wellcoordination/benchmark/op-crdt-reg.hpp:191:3: warning: no return statement in function returning non-void [-Wreturn-type]\n",
      "   }\n",
      "   ^\n",
      "In file included from /home/tejas/Optimistic-Replication/tcp/../protocol-hamsou.cpp:8,\n",
      "                 from /home/tejas/Optimistic-Replication/tcp/ServerConnection.cpp:18,\n",
      "                 from /home/tejas/Optimistic-Replication/tcp/ServersCommunicationLayer.cpp:6,\n",
      "                 from /home/tejas/Optimistic-Replication/tcp/main-replication-protocols.cpp:9:\n",
      "/home/tejas/Optimistic-Replication/junction/../wellcoordination/benchmark/op-crdt-gset.hpp: In member function ‘bool Opcrdtgset::checkValidcall(Call)’:\n",
      "/home/tejas/Optimistic-Replication/junction/../wellcoordination/benchmark/op-crdt-gset.hpp:189:3: warning: no return statement in function returning non-void [-Wreturn-type]\n",
      "   }\n",
      "   ^\n",
      "In file included from /home/tejas/Optimistic-Replication/tcp/../protocol-hamsou.cpp:9,\n",
      "                 from /home/tejas/Optimistic-Replication/tcp/ServerConnection.cpp:18,\n",
      "                 from /home/tejas/Optimistic-Replication/tcp/ServersCommunicationLayer.cpp:6,\n",
      "                 from /home/tejas/Optimistic-Replication/tcp/main-replication-protocols.cpp:9:\n",
      "/home/tejas/Optimistic-Replication/junction/../wellcoordination/benchmark/op-crdt-counter.hpp: In member function ‘bool Opcrdtcounter::checkValidcall(Call)’:\n",
      "/home/tejas/Optimistic-Replication/junction/../wellcoordination/benchmark/op-crdt-counter.hpp:189:3: warning: no return statement in function returning non-void [-Wreturn-type]\n",
      "   }\n",
      "   ^\n"
     ]
    }
   ],
   "source": [
    "results = Parallel(n_jobs=60, prefer=\"threads\")(delayed(setup)(i) for i in range(num_nodes))"
   ]
  },
  {
   "cell_type": "code",
   "execution_count": 45,
   "id": "804d547f",
   "metadata": {},
   "outputs": [],
   "source": [
    "result = subprocess.check_output('gcloud compute instances list  --format=\"value(networkInterfaces[0].networkIP)\"', shell=True, text=True)\n",
    "\n",
    "# Convert the output to a list by splitting on newlines\n",
    "ip_list = result.splitlines()"
   ]
  },
  {
   "cell_type": "code",
   "execution_count": 46,
   "id": "762bf35e-b07b-4110-8fe6-3da372b2a679",
   "metadata": {},
   "outputs": [
    {
     "data": {
      "text/plain": [
       "['10.128.0.29', '10.128.0.70', '10.128.0.54', '10.128.0.27']"
      ]
     },
     "execution_count": 46,
     "metadata": {},
     "output_type": "execute_result"
    }
   ],
   "source": [
    "ip_list"
   ]
  },
  {
   "cell_type": "code",
   "execution_count": 47,
   "id": "55ed65e5",
   "metadata": {},
   "outputs": [],
   "source": [
    "def get_sorted_instance_ips():\n",
    "    result = subprocess.check_output(\n",
    "        \"gcloud compute instances list --filter='name~^tmane-' \"\n",
    "        \"--format='value(name,networkInterfaces[0].networkIP)'\",\n",
    "        shell=True\n",
    "    )\n",
    "    lines = result.decode().splitlines()\n",
    "    # Parse into list of tuples: (name, ip)\n",
    "    name_ip_pairs = [line.strip().split() for line in lines]\n",
    "    # Sort by name: optrep-000, optrep-001, ...\n",
    "    sorted_pairs = sorted(name_ip_pairs, key=lambda x: x[0])\n",
    "    # Extract sorted IPs\n",
    "    sorted_ips = [ip for name, ip in sorted_pairs]\n",
    "    return sorted_ips\n",
    "\n",
    "ip_list = get_sorted_instance_ips()\n",
    "ip_string = \" \".join(ip_list)"
   ]
  },
  {
   "cell_type": "code",
   "execution_count": 48,
   "id": "e5dd07a8-4145-4bdc-b1e6-eb901b877f81",
   "metadata": {},
   "outputs": [
    {
     "data": {
      "text/plain": [
       "'10.128.0.29 10.128.0.70 10.128.0.54 10.128.0.27'"
      ]
     },
     "execution_count": 48,
     "metadata": {},
     "output_type": "execute_result"
    }
   ],
   "source": [
    "ip_string"
   ]
  },
  {
   "cell_type": "code",
   "execution_count": 49,
   "id": "d746a324",
   "metadata": {},
   "outputs": [],
   "source": [
    "def run_code(i):\n",
    "    output_dir = f\"../../wellcoordination/workload/{num_nodes}-{num_txns}-{write_percent}/{usecase}\"\n",
    "    output_file = f\"{output_dir}/result{i}.out\"\n",
    "    command = (\n",
    "        f'gcloud compute ssh --zone us-central1-a '\n",
    "        f'{gcp_username}@tmane-{i:03} '\n",
    "        f'--project ucr-ursa-major-lesani-lab '\n",
    "        f'--command \"cd Optimistic-Replication/tcp/build; '\n",
    "        f'sudo bash -c \\''\n",
    "        f'mkdir -p {output_dir}; '\n",
    "        f'nohup ./main-replication-protocols {i+1} {num_nodes} {num_txns} {write_percent} {usecase} {operationrate} {fialed_node_id} {ip_string} > {output_file} 2>&1 &'\n",
    "        f'\\'\"'\n",
    "    )\n",
    "    print(command)\n",
    "    output = subprocess.getoutput(command)\n",
    "    print(output)\n",
    "\n"
   ]
  },
  {
   "cell_type": "code",
   "execution_count": 50,
   "id": "b72a7098",
   "metadata": {
    "scrolled": true
   },
   "outputs": [
    {
     "name": "stdout",
     "output_type": "stream",
     "text": [
      "gcloud compute ssh --zone us-central1-a tejas@tmane-000 --project ucr-ursa-major-lesani-lab --command \"cd Optimistic-Replication/tcp/build; sudo bash -c 'mkdir -p ../../wellcoordination/workload/4-7200-10/stack; nohup ./main-replication-protocols 1 4 7200 10 stack 1000000000 3 10.128.0.29 10.128.0.70 10.128.0.54 10.128.0.27 > ../../wellcoordination/workload/4-7200-10/stack/result0.out 2>&1 &'\"\n",
      "\n",
      "gcloud compute ssh --zone us-central1-a tejas@tmane-001 --project ucr-ursa-major-lesani-lab --command \"cd Optimistic-Replication/tcp/build; sudo bash -c 'mkdir -p ../../wellcoordination/workload/4-7200-10/stack; nohup ./main-replication-protocols 2 4 7200 10 stack 1000000000 3 10.128.0.29 10.128.0.70 10.128.0.54 10.128.0.27 > ../../wellcoordination/workload/4-7200-10/stack/result1.out 2>&1 &'\"\n",
      "\n",
      "gcloud compute ssh --zone us-central1-a tejas@tmane-002 --project ucr-ursa-major-lesani-lab --command \"cd Optimistic-Replication/tcp/build; sudo bash -c 'mkdir -p ../../wellcoordination/workload/4-7200-10/stack; nohup ./main-replication-protocols 3 4 7200 10 stack 1000000000 3 10.128.0.29 10.128.0.70 10.128.0.54 10.128.0.27 > ../../wellcoordination/workload/4-7200-10/stack/result2.out 2>&1 &'\"\n",
      "\n",
      "gcloud compute ssh --zone us-central1-a tejas@tmane-003 --project ucr-ursa-major-lesani-lab --command \"cd Optimistic-Replication/tcp/build; sudo bash -c 'mkdir -p ../../wellcoordination/workload/4-7200-10/stack; nohup ./main-replication-protocols 4 4 7200 10 stack 1000000000 3 10.128.0.29 10.128.0.70 10.128.0.54 10.128.0.27 > ../../wellcoordination/workload/4-7200-10/stack/result3.out 2>&1 &'\"\n",
      "\n"
     ]
    }
   ],
   "source": [
    "# results = Parallel(n_jobs=60)(delayed(run_code)(i) for i in range(num_nodes))\n",
    "\n",
    "for i in range(num_nodes):\n",
    "    run_code(i)\n"
   ]
  },
  {
   "cell_type": "code",
   "execution_count": 51,
   "id": "c0888e8b-a2b9-4fd5-9cb6-0bddaeb4872a",
   "metadata": {
    "scrolled": true
   },
   "outputs": [
    {
     "name": "stdout",
     "output_type": "stream",
     "text": [
      "\n"
     ]
    }
   ],
   "source": [
    "time.sleep(16.5)\n",
    "\n",
    "\n",
    "\n",
    "kill_code(3)\n",
    "\n",
    "time.sleep(13)\n"
   ]
  },
  {
   "cell_type": "code",
   "execution_count": 52,
   "id": "f0826907",
   "metadata": {},
   "outputs": [
    {
     "name": "stdout",
     "output_type": "stream",
     "text": [
      "main-replication-protocols: no process found\n",
      "main-replication-protocols: no process found\n",
      "main-replication-protocols: no process found\n",
      "main-replication-protocols: no process found\n"
     ]
    }
   ],
   "source": [
    "for i in range(num_nodes):\n",
    "    kill_code(i)"
   ]
  },
  {
   "cell_type": "code",
   "execution_count": 53,
   "id": "c31a003a-0377-48f0-9808-e8e855e7d839",
   "metadata": {},
   "outputs": [],
   "source": [
    "\n",
    "if not os.path.exists('../optrep_outputs'):\n",
    "    os.mkdir('../optrep_outputs')\n",
    "\n",
    "for i in [0,2, 3]:\n",
    "    command = (\n",
    "        f'gcloud compute scp --zone us-central1-a '\n",
    "        f'{gcp_username}@tmane-{i:03}:/home/{gcp_username}/Optimistic-Replication/wellcoordination/workload/{num_nodes}-{num_txns}-{write_percent}/stack/result{i}.out '\n",
    "        f'../optrep_outputs/{i}.txt '\n",
    "        f'--project ucr-ursa-major-lesani-lab'\n",
    "    )\n",
    "    os.system(command)\n",
    "    # break"
   ]
  },
  {
   "cell_type": "code",
   "execution_count": 54,
   "id": "49d6f778",
   "metadata": {
    "scrolled": true
   },
   "outputs": [],
   "source": [
    "# os.system('gcloud compute instances delete --zone=us-central1-a --quiet --project=ucr-ursa-major-lesani-lab $(gcloud compute instances list --project=ucr-ursa-major-lesani-lab --filter=\"name~^tmane-\" --format=\"value(name)\")')"
   ]
  },
  {
   "cell_type": "code",
   "execution_count": null,
   "id": "9554900a",
   "metadata": {},
   "outputs": [],
   "source": []
  },
  {
   "cell_type": "code",
   "execution_count": null,
   "id": "2eec1e32-487f-4bb5-a3b1-132f7bafdf43",
   "metadata": {},
   "outputs": [],
   "source": []
  },
  {
   "cell_type": "code",
   "execution_count": null,
   "id": "9b8a99ce-e3c2-4051-84a9-2312abcc0c99",
   "metadata": {},
   "outputs": [],
   "source": []
  },
  {
   "cell_type": "code",
   "execution_count": null,
   "id": "d6b11a3d-d22b-42d4-aced-39fa13bf50d1",
   "metadata": {},
   "outputs": [],
   "source": []
  },
  {
   "cell_type": "code",
   "execution_count": null,
   "id": "c57c4ce9-dcbb-423b-b0da-0e18cbd8beb8",
   "metadata": {},
   "outputs": [],
   "source": []
  },
  {
   "cell_type": "code",
   "execution_count": null,
   "id": "076e4efe-975a-4722-a8fd-f9b7f375a40b",
   "metadata": {},
   "outputs": [],
   "source": []
  },
  {
   "cell_type": "code",
   "execution_count": null,
   "id": "ea0513a6-c03d-4b1c-9fb2-cfb30bcf6041",
   "metadata": {},
   "outputs": [],
   "source": []
  },
  {
   "cell_type": "code",
   "execution_count": null,
   "id": "42c994d1-15ff-46b8-b9e0-fbc019d3de9f",
   "metadata": {},
   "outputs": [],
   "source": []
  },
  {
   "cell_type": "code",
   "execution_count": null,
   "id": "550cce40-8cad-45ef-bf2b-bfa609cbc315",
   "metadata": {},
   "outputs": [],
   "source": []
  },
  {
   "cell_type": "code",
   "execution_count": null,
   "id": "796e84d1-1575-4a76-ad34-87d408106d6b",
   "metadata": {},
   "outputs": [],
   "source": []
  },
  {
   "cell_type": "code",
   "execution_count": null,
   "id": "fa7a2826-e7af-45a2-911f-a2432db54e43",
   "metadata": {},
   "outputs": [],
   "source": []
  }
 ],
 "metadata": {
  "kernelspec": {
   "display_name": "Python 3 (ipykernel)",
   "language": "python",
   "name": "python3"
  },
  "language_info": {
   "codemirror_mode": {
    "name": "ipython",
    "version": 3
   },
   "file_extension": ".py",
   "mimetype": "text/x-python",
   "name": "python",
   "nbconvert_exporter": "python",
   "pygments_lexer": "ipython3",
   "version": "3.13.5"
  }
 },
 "nbformat": 4,
 "nbformat_minor": 5
}
