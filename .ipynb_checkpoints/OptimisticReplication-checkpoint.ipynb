{
 "cells": [
  {
   "cell_type": "code",
   "execution_count": null,
   "id": "58fdbb5e",
   "metadata": {},
   "outputs": [],
   "source": [
    "import time\n",
    "import re\n",
    "import pylab as pl\n",
    "import numpy as np\n",
    "import pylab as pl\n",
    "\n",
    "from datetime import datetime, timedelta\n",
    "\n",
    "import subprocess\n",
    "\n",
    "import os\n",
    "import pandas as pd\n",
    "\n",
    "import concurrent.futures\n",
    "\n",
    "\n",
    "from joblib import Parallel, delayed\n",
    "import shutil\n",
    "\n",
    "\n",
    "from concurrent.futures import ThreadPoolExecutor, ProcessPoolExecutor"
   ]
  },
  {
   "cell_type": "code",
   "execution_count": null,
   "id": "c4ef2359",
   "metadata": {},
   "outputs": [],
   "source": [
    "num_nodes = 4\n",
    "\n",
    "num_txns = 12000\n",
    "fialed_node_id = 2\n",
    "write_percent = 10\n",
    "usecase = 'stack'\n",
    "operationrate =1000000000"
   ]
  },
  {
   "cell_type": "code",
   "execution_count": null,
   "id": "0848d47f-d887-44a1-aba4-81ec1563ef06",
   "metadata": {},
   "outputs": [],
   "source": [
    "gcp_username = 'tejas'"
   ]
  },
  {
   "cell_type": "code",
   "execution_count": null,
   "id": "89a4194c",
   "metadata": {},
   "outputs": [],
   "source": [
    "\n",
    "commands  = []\n",
    "\n",
    "\n",
    "\n",
    "for i in range(num_nodes):\n",
    "    cmd =  'gcloud compute instances create tmaneoptrep-'+f\"{i:03}\"+' \\\n",
    "    --project=ucr-ursa-major-lesani-lab \\\n",
    "    --zone=us-central1-a \\\n",
    "    --machine-type=e2-highcpu-8 \\\n",
    "    --network-interface=network-tier=PREMIUM,stack-type=IPV4_ONLY,subnet=default \\\n",
    "    --maintenance-policy=MIGRATE \\\n",
    "    --provisioning-model=STANDARD \\\n",
    "    --service-account=961693926925-compute@developer.gserviceaccount.com \\\n",
    "    --scopes=https://www.googleapis.com/auth/devstorage.read_only,https://www.googleapis.com/auth/logging.write,https://www.googleapis.com/auth/monitoring.write,https://www.googleapis.com/auth/service.management.readonly,https://www.googleapis.com/auth/servicecontrol,https://www.googleapis.com/auth/trace.append \\\n",
    "    --create-disk=auto-delete=yes,boot=yes,device-name=instance-20241002-130909,image=projects/rhel-cloud/global/images/rhel-8-v20240910,mode=rw,size=20,type=pd-balanced \\\n",
    "    --no-shielded-secure-boot \\\n",
    "    --shielded-vtpm \\\n",
    "    --shielded-integrity-monitoring \\\n",
    "    --labels=goog-ec-src=vm_add-gcloud \\\n",
    "    --reservation-affinity=any'\n",
    "\n",
    "    commands.append(cmd)\n",
    "\n",
    "\n",
    "def run_command(command):\n",
    "    subprocess.call(command, shell=True)\n",
    "\n",
    "\n",
    "# Create a ThreadPoolExecutor or ProcessPoolExecutor, depending on your needs\n",
    "with concurrent.futures.ThreadPoolExecutor(max_workers=60) as executor:\n",
    "    # Submit each command to the executor for parallel execution\n",
    "    futures = [executor.submit(run_command, command) for command in commands]\n",
    "\n",
    "    # Wait for all tasks to complete\n",
    "    concurrent.futures.wait(futures)"
   ]
  },
  {
   "cell_type": "code",
   "execution_count": null,
   "id": "d9e07501",
   "metadata": {},
   "outputs": [],
   "source": [
    "time.sleep(60)"
   ]
  },
  {
   "cell_type": "code",
   "execution_count": null,
   "id": "5b968e3f-f772-4c59-bdb0-d8086be17f96",
   "metadata": {
    "scrolled": true
   },
   "outputs": [],
   "source": [
    "os.system(\"cd .. && zip -r Optimistic-Replication.zip Optimistic-Replication/\")"
   ]
  },
  {
   "cell_type": "code",
   "execution_count": null,
   "id": "8203f9a2",
   "metadata": {},
   "outputs": [],
   "source": [
    "\n",
    "for i in range(num_nodes):\n",
    "    command = (\n",
    "        f'gcloud compute scp --zone us-central1-a '\n",
    "        f'../Optimistic-Replication.zip '\n",
    "        f'jsabe004@tmaneoptrep-{i:03}:/home/jsabe004/Optimistic-Replication.zip '\n",
    "        f'--project ucr-ursa-major-lesani-lab'\n",
    "    )\n",
    "    os.system(command)\n"
   ]
  },
  {
   "cell_type": "code",
   "execution_count": null,
   "id": "d80e0f09",
   "metadata": {},
   "outputs": [],
   "source": [
    "# gcp_username = \"jsabe004\"\n",
    "\n",
    "for i in range(num_nodes):\n",
    "    command = (\n",
    "        f'gcloud compute scp --zone us-central1-a '\n",
    "        f'optrep_script.sh '\n",
    "        f'jsabe004@tmaneoptrep-{i:03}:/home/jsabe004/optrep_script.sh '\n",
    "        f'--project ucr-ursa-major-lesani-lab'\n",
    "    )\n",
    "    os.system(command)\n"
   ]
  },
  {
   "cell_type": "code",
   "execution_count": null,
   "id": "596d12ba",
   "metadata": {},
   "outputs": [],
   "source": [
    "def setup(i):\n",
    "    command = (\n",
    "        f'gcloud compute ssh --zone us-central1-a '\n",
    "        f'jsabe004@tmaneoptrep-{i:03} '\n",
    "        f'--project ucr-ursa-major-lesani-lab '\n",
    "        f'--command \"sh optrep_script.sh {num_nodes} {num_txns} {write_percent} {usecase} > /home/jsabe004/log.txt\"'\n",
    "    )\n",
    "    output = subprocess.getoutput(command)\n",
    "    print(output)\n",
    "\n",
    "    "
   ]
  },
  {
   "cell_type": "code",
   "execution_count": null,
   "id": "dd96a245",
   "metadata": {},
   "outputs": [],
   "source": [
    "results = Parallel(n_jobs=60)(delayed(setup)(i) for i in range(num_nodes))"
   ]
  },
  {
   "cell_type": "code",
   "execution_count": null,
   "id": "804d547f",
   "metadata": {},
   "outputs": [],
   "source": [
    "result = subprocess.check_output('gcloud compute instances list  --format=\"value(networkInterfaces[0].networkIP)\"', shell=True, text=True)\n",
    "\n",
    "# Convert the output to a list by splitting on newlines\n",
    "ip_list = result.splitlines()"
   ]
  },
  {
   "cell_type": "code",
   "execution_count": null,
   "id": "55ed65e5",
   "metadata": {},
   "outputs": [],
   "source": [
    "def get_sorted_instance_ips():\n",
    "    result = subprocess.check_output(\n",
    "        \"gcloud compute instances list --filter='name~^tmaneoptrep-' \"\n",
    "        \"--format='value(name,networkInterfaces[0].networkIP)'\",\n",
    "        shell=True\n",
    "    )\n",
    "    lines = result.decode().splitlines()\n",
    "    # Parse into list of tuples: (name, ip)\n",
    "    name_ip_pairs = [line.strip().split() for line in lines]\n",
    "    # Sort by name: optrep-000, optrep-001, ...\n",
    "    sorted_pairs = sorted(name_ip_pairs, key=lambda x: x[0])\n",
    "    # Extract sorted IPs\n",
    "    sorted_ips = [ip for name, ip in sorted_pairs]\n",
    "    return sorted_ips\n",
    "\n",
    "ip_list = get_sorted_instance_ips()\n",
    "ip_string = \" \".join(ip_list)"
   ]
  },
  {
   "cell_type": "code",
   "execution_count": null,
   "id": "d746a324",
   "metadata": {},
   "outputs": [],
   "source": [
    "def run_code(i):\n",
    "    # gcp_username = \"jsabe004\"\n",
    "    output_dir = f\"/home/jsabe004/Optimistic-Replication/wellcoordination/workload/{num_nodes}-{num_txns}-{write_percent}/{usecase}\"\n",
    "    output_file = f\"{output_dir}/result{i}.out\"\n",
    "    command = (\n",
    "        f'gcloud compute ssh --zone us-central1-a '\n",
    "        f'jsabe004@tmaneoptrep-{i:03} '\n",
    "        f'--project ucr-ursa-major-lesani-lab '\n",
    "        f'--command \"cd Optimistic-Replication/tcp/build; '\n",
    "        f'mkdir -p {output_dir}; '\n",
    "        f'nohup ./main-replication-protocols {i+1} {num_nodes} {num_txns} {write_percent} {usecase} {operationrate} {fialed_node_id} {ip_string} > {output_file} 2>&1 &\"'\n",
    "    )\n",
    "    output = subprocess.getoutput(command)\n",
    "    print(output)"
   ]
  },
  {
   "cell_type": "code",
   "execution_count": null,
   "id": "b72a7098",
   "metadata": {},
   "outputs": [],
   "source": [
    "for i in range(num_nodes):\n",
    "    run_code(i)\n",
    "    #time.sleep(1)"
   ]
  },
  {
   "cell_type": "code",
   "execution_count": null,
   "id": "8035c179",
   "metadata": {},
   "outputs": [],
   "source": [
    "time.sleep(60)"
   ]
  },
  {
   "cell_type": "code",
   "execution_count": null,
   "id": "f7430f4a",
   "metadata": {},
   "outputs": [],
   "source": [
    "\n",
    "if not os.path.exists('../optrep_outputs'):\n",
    "    os.mkdir('../optrep_outputs')\n",
    "\n",
    "for i in range(num_nodes):\n",
    "    command = (\n",
    "        f'gcloud compute scp --zone us-central1-a '\n",
    "        f'jsabe004@tmaneoptrep-{i:03}:/home/jsabe004/Optimistic-Replication/tcp/build/output.txt '\n",
    "        f'../optrep_outputs/{i}.txt '\n",
    "        f'--project ucr-ursa-major-lesani-lab'\n",
    "    )\n",
    "    os.system(command)"
   ]
  },
  {
   "cell_type": "code",
   "execution_count": null,
   "id": "40c03145",
   "metadata": {},
   "outputs": [],
   "source": [
    "def kill_code(i):\n",
    "    command = (\n",
    "        f'gcloud compute ssh --zone us-central1-a '\n",
    "        f'jsabe004@tmaneoptrep-{i:03} '\n",
    "        f'--project ucr-ursa-major-lesani-lab '\n",
    "        f'--command \"sudo killall main-optimistic-replication\"'\n",
    "    )\n",
    "    output = subprocess.getoutput(command)\n",
    "    print(output)"
   ]
  },
  {
   "cell_type": "code",
   "execution_count": null,
   "id": "f0826907",
   "metadata": {},
   "outputs": [],
   "source": [
    "for i in range(num_nodes):\n",
    "    kill_code(i)"
   ]
  },
  {
   "cell_type": "code",
   "execution_count": null,
   "id": "49d6f778",
   "metadata": {
    "scrolled": true
   },
   "outputs": [],
   "source": [
    "os.system('gcloud compute instances delete --zone=us-central1-a --quiet --project=ucr-ursa-major-lesani-lab $(gcloud compute instances list --project=ucr-ursa-major-lesani-lab --filter=\"name~^optrep-\" --format=\"value(name)\")')"
   ]
  },
  {
   "cell_type": "code",
   "execution_count": null,
   "id": "9554900a",
   "metadata": {},
   "outputs": [],
   "source": []
  },
  {
   "cell_type": "code",
   "execution_count": null,
   "id": "2eec1e32-487f-4bb5-a3b1-132f7bafdf43",
   "metadata": {},
   "outputs": [],
   "source": []
  },
  {
   "cell_type": "code",
   "execution_count": null,
   "id": "9b8a99ce-e3c2-4051-84a9-2312abcc0c99",
   "metadata": {},
   "outputs": [],
   "source": []
  },
  {
   "cell_type": "code",
   "execution_count": null,
   "id": "d6b11a3d-d22b-42d4-aced-39fa13bf50d1",
   "metadata": {},
   "outputs": [],
   "source": []
  }
 ],
 "metadata": {
  "kernelspec": {
   "display_name": "Python 3 (ipykernel)",
   "language": "python",
   "name": "python3"
  },
  "language_info": {
   "codemirror_mode": {
    "name": "ipython",
    "version": 3
   },
   "file_extension": ".py",
   "mimetype": "text/x-python",
   "name": "python",
   "nbconvert_exporter": "python",
   "pygments_lexer": "ipython3",
   "version": "3.12.7"
  }
 },
 "nbformat": 4,
 "nbformat_minor": 5
}
